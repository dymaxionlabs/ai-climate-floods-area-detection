{
 "cells": [
  {
   "cell_type": "markdown",
   "id": "4b085c75-101a-4d33-8633-271d4acfb181",
   "metadata": {},
   "source": [
    "# Flood area detection\n",
    "# 2_ Predicción\n",
    "\n",
    "At this stage, the already trained model processes new images in search of the patterns that define the object of interest. For each image in the prediction dataset, it returns an image where each pixel represents the probability of having detected the object of interest."
   ]
  },
  {
   "cell_type": "code",
   "execution_count": 1,
   "id": "423b174a-689e-44d7-9440-703becbcf061",
   "metadata": {},
   "outputs": [],
   "source": [
    "import glob\n",
    "import os\n",
    "from unetseg.predict import PredictConfig, predict\n",
    "from unetseg.evaluate import plot_data_results"
   ]
  },
  {
   "cell_type": "markdown",
   "id": "9cbcba25-91db-4f7d-a30d-6ca2de562a8d",
   "metadata": {},
   "source": [
    "## Variables statement"
   ]
  },
  {
   "cell_type": "code",
   "execution_count": 2,
   "id": "0f83faa2-2066-44e2-a8d9-5b74e756ff24",
   "metadata": {},
   "outputs": [],
   "source": [
    "ZONE = \"TEGU\"\n",
    "\n",
    "if ZONE==\"SULA\":\n",
    "    #General\n",
    "    BASE_PATH = \"./../\"\n",
    "    EVENT=\"moderado\"\n",
    "    RESO='planet'\n",
    "    BASE_PATH = \"./../\"\n",
    "    PATH_PREDICT_IMAGE = f'{BASE_PATH}images/{ZONE}/{RESO}/{EVENTO}/'\n",
    "    \n",
    "    #satproc\n",
    "    SIZE =160\n",
    "    STEP_SIZE = 60    \n",
    "    MUNI_AOI='municipios_SE'\n",
    "    BUCKET_SMOOTH =f'gs://dym-quilmes-trucks-temp/I2UD/results_L2/{ZONE}/{EVENTO}/{RESO}/'\n",
    "    \n",
    "    #unet\n",
    "    INPUT_SIZE=256\n",
    "    N_CHANNELS = 8\n",
    "    VERSION='v1'\n",
    "    CLASS_WEIGHT = [1]\n",
    "    STEP_PER_EPOCH = 110\n",
    "    N_CLASSES = 1\n",
    "     MODEL_NAME = f'UNet_{ZONE}_{INPUT_SIZE}x{INPUT_SIZE}_{EVENT}_{RESO}_{str(SIZE)}_{str(STEP_SIZE)}_spe{STEP_PER_EPOCH}_{VERSION}.h5'\n",
    "    ##post-process\n",
    "    THR = 0.5\n",
    "    MIN_AREA = 50000\n",
    "    \n",
    "if ZONE==\"TEGU\":\n",
    "    \n",
    "    #General\n",
    "    BASE_PATH = \"./../\"\n",
    "    RESO='low'\n",
    "    EVENTO='moderado'\n",
    "    PATH_PREDICT_IMAGE = f'{BASE_PATH}images/{ZONE}/{RESO}/{EVENTO}/'\n",
    "    \n",
    "    #satproc\n",
    "    SIZE =160\n",
    "    STEP_SIZE = 30  \n",
    "    \n",
    "    BUCKET_SMOOTH =f'gs://dym-quilmes-trucks-temp/I2UD/results_L2/{ZONE}/{EVENTO}/{RESO}/'\n",
    "    \n",
    "    #unet\n",
    "    INPUT_SIZE=160\n",
    "    N_CHANNELS = 8\n",
    "    VERSION='v1'\n",
    "    CLASS_WEIGHT = [1]\n",
    "    STEP_PER_EPOCH = 70\n",
    "    N_CLASSES = 1\n",
    "    MODEL_NAME = f'UNet_{ZONE}_{INPUT_SIZE}x{INPUT_SIZE}_{EVENT}_{RESO}_{str(SIZE)}_{str(STEP_SIZE)}_spe{STEP_PER_EPOCH}_{VERSION}.h5'"
   ]
  },
  {
   "cell_type": "markdown",
   "id": "28da5a8b-7b43-436b-ba75-b18f233c55c5",
   "metadata": {},
   "source": [
    "##  Prediction dataset generation\n",
    "### Satproc\n",
    "\n",
    "*satproc_extract_chips* tool is also used to generate the predict dataset which only has images.\n",
    "\n",
    "Here, we are interested in predict over the whole image. We also want to get a better visualization of the results, so we'll generate chips with overlap, because they are necessary to the smooth tool used in the post-process."
   ]
  },
  {
   "cell_type": "code",
   "execution_count": 3,
   "id": "91526e88-fc97-4a01-a035-f0d0f22364e7",
   "metadata": {},
   "outputs": [],
   "source": [
    "size = SIZE\n",
    "step_size = 40\n",
    "path_to_files         = f'{BASE_PATH}{PATH_IMAGENES_PREDICCION}*.tif'\n",
    "predict_output_folder = f'{BASE_PATH}/dataset/data_predict/{ZONE}/{RESO}/{EVENTO}/SMOOTH/'+str(size)+'_'+str(step_size)+'/' #Predict dataset folder\n",
    "print(path_to_files,predict_output_folder)"
   ]
  },
  {
   "cell_type": "code",
   "execution_count": 11,
   "id": "056c4849-d150-4a54-9fba-9e3c6feadcea",
   "metadata": {
    "scrolled": true,
    "tags": []
   },
   "outputs": [
    {
     "name": "stdout",
     "output_type": "stream",
     "text": [
      "Rasters:   0%|                                            | 0/1 [00:00<?, ?it/s]\n",
      "dataset_v2_tegu_epsg4326.tif windows:   0%|            | 0/1710 [00:00<?, ?it/s]\u001b[A\n",
      "dataset_v2_tegu_epsg4326.tif windows:   0%|    | 1/1710 [00:00<05:08,  5.54it/s]\u001b[A\n",
      "dataset_v2_tegu_epsg4326.tif windows:   0%|    | 3/1710 [00:00<02:31, 11.23it/s]\u001b[A\n",
      "dataset_v2_tegu_epsg4326.tif windows:   0%|    | 5/1710 [00:00<02:00, 14.17it/s]\u001b[A\n",
      "dataset_v2_tegu_epsg4326.tif windows:   0%|    | 7/1710 [00:00<01:48, 15.66it/s]\u001b[A\n",
      "dataset_v2_tegu_epsg4326.tif windows:   1%|    | 9/1710 [00:00<01:40, 17.01it/s]\u001b[A\n",
      "dataset_v2_tegu_epsg4326.tif windows:   1%|   | 12/1710 [00:00<01:28, 19.12it/s]\u001b[A\n",
      "dataset_v2_tegu_epsg4326.tif windows:   1%|   | 15/1710 [00:00<01:24, 19.97it/s]\u001b[A\n",
      "dataset_v2_tegu_epsg4326.tif windows:   1%|   | 18/1710 [00:01<01:23, 20.37it/s]\u001b[A\n",
      "dataset_v2_tegu_epsg4326.tif windows:   1%|   | 21/1710 [00:01<01:21, 20.77it/s]\u001b[A\n",
      "dataset_v2_tegu_epsg4326.tif windows:   1%|   | 24/1710 [00:01<01:20, 20.88it/s]\u001b[A\n",
      "dataset_v2_tegu_epsg4326.tif windows:   2%|   | 27/1710 [00:01<01:22, 20.39it/s]\u001b[A\n",
      "dataset_v2_tegu_epsg4326.tif windows:   2%|   | 30/1710 [00:01<01:19, 21.07it/s]\u001b[A\n",
      "dataset_v2_tegu_epsg4326.tif windows:   2%|   | 33/1710 [00:01<01:17, 21.54it/s]\u001b[A\n",
      "dataset_v2_tegu_epsg4326.tif windows:   2%|   | 36/1710 [00:01<01:21, 20.47it/s]\u001b[A\n",
      "dataset_v2_tegu_epsg4326.tif windows:   2%|   | 39/1710 [00:02<01:21, 20.57it/s]\u001b[A\n",
      "dataset_v2_tegu_epsg4326.tif windows:   2%|   | 42/1710 [00:02<01:20, 20.74it/s]\u001b[A\n",
      "dataset_v2_tegu_epsg4326.tif windows:   3%|   | 45/1710 [00:02<01:20, 20.66it/s]\u001b[A\n",
      "dataset_v2_tegu_epsg4326.tif windows:   3%|   | 48/1710 [00:02<01:19, 20.97it/s]\u001b[A\n",
      "dataset_v2_tegu_epsg4326.tif windows:   3%|   | 51/1710 [00:02<01:18, 21.27it/s]\u001b[A\n",
      "dataset_v2_tegu_epsg4326.tif windows:   3%|   | 54/1710 [00:02<01:17, 21.40it/s]\u001b[A\n",
      "dataset_v2_tegu_epsg4326.tif windows:   3%|1  | 57/1710 [00:02<01:15, 21.84it/s]\u001b[A\n",
      "dataset_v2_tegu_epsg4326.tif windows:   4%|1  | 60/1710 [00:03<01:15, 21.75it/s]\u001b[A\n",
      "dataset_v2_tegu_epsg4326.tif windows:   4%|1  | 63/1710 [00:03<01:15, 21.69it/s]\u001b[A\n",
      "dataset_v2_tegu_epsg4326.tif windows:   4%|1  | 66/1710 [00:03<01:16, 21.59it/s]\u001b[A\n",
      "dataset_v2_tegu_epsg4326.tif windows:   4%|1  | 69/1710 [00:03<01:18, 20.99it/s]\u001b[A\n",
      "dataset_v2_tegu_epsg4326.tif windows:   4%|1  | 72/1710 [00:03<01:17, 21.01it/s]\u001b[A\n",
      "dataset_v2_tegu_epsg4326.tif windows:   4%|1  | 75/1710 [00:03<01:17, 21.21it/s]\u001b[A\n",
      "dataset_v2_tegu_epsg4326.tif windows:   5%|1  | 78/1710 [00:03<01:16, 21.41it/s]\u001b[A\n",
      "dataset_v2_tegu_epsg4326.tif windows:   5%|1  | 81/1710 [00:03<01:16, 21.17it/s]\u001b[A\n",
      "dataset_v2_tegu_epsg4326.tif windows:   5%|1  | 84/1710 [00:04<01:17, 21.11it/s]\u001b[A\n",
      "dataset_v2_tegu_epsg4326.tif windows:   5%|1  | 87/1710 [00:04<01:16, 21.08it/s]\u001b[A\n",
      "dataset_v2_tegu_epsg4326.tif windows:   5%|1  | 90/1710 [00:04<01:16, 21.23it/s]\u001b[A\n",
      "dataset_v2_tegu_epsg4326.tif windows:   5%|1  | 93/1710 [00:04<01:15, 21.46it/s]\u001b[A\n",
      "dataset_v2_tegu_epsg4326.tif windows:   6%|1  | 96/1710 [00:04<01:15, 21.34it/s]\u001b[A\n",
      "dataset_v2_tegu_epsg4326.tif windows:   6%|1  | 99/1710 [00:04<01:16, 21.19it/s]\u001b[A\n",
      "dataset_v2_tegu_epsg4326.tif windows:   6%|1 | 102/1710 [00:04<01:16, 21.14it/s]\u001b[A\n",
      "dataset_v2_tegu_epsg4326.tif windows:   6%|1 | 105/1710 [00:05<01:15, 21.27it/s]\u001b[A\n",
      "dataset_v2_tegu_epsg4326.tif windows:   6%|1 | 108/1710 [00:05<01:14, 21.40it/s]\u001b[A\n",
      "dataset_v2_tegu_epsg4326.tif windows:   6%|1 | 111/1710 [00:05<01:15, 21.11it/s]\u001b[A\n",
      "dataset_v2_tegu_epsg4326.tif windows:   7%|1 | 114/1710 [00:05<01:14, 21.41it/s]\u001b[A\n",
      "dataset_v2_tegu_epsg4326.tif windows:   7%|1 | 117/1710 [00:05<01:14, 21.39it/s]\u001b[A\n",
      "dataset_v2_tegu_epsg4326.tif windows:   7%|1 | 120/1710 [00:05<01:13, 21.57it/s]\u001b[A\n",
      "dataset_v2_tegu_epsg4326.tif windows:   7%|1 | 123/1710 [00:05<01:13, 21.45it/s]\u001b[A\n",
      "dataset_v2_tegu_epsg4326.tif windows:   7%|1 | 126/1710 [00:06<01:13, 21.54it/s]\u001b[A\n",
      "dataset_v2_tegu_epsg4326.tif windows:   8%|1 | 129/1710 [00:06<01:14, 21.33it/s]\u001b[A\n",
      "dataset_v2_tegu_epsg4326.tif windows:   8%|1 | 132/1710 [00:06<01:14, 21.21it/s]\u001b[A\n",
      "dataset_v2_tegu_epsg4326.tif windows:   8%|1 | 135/1710 [00:06<01:14, 21.13it/s]\u001b[A\n",
      "dataset_v2_tegu_epsg4326.tif windows:   8%|1 | 138/1710 [00:06<01:13, 21.36it/s]\u001b[A\n",
      "dataset_v2_tegu_epsg4326.tif windows:   8%|1 | 141/1710 [00:06<01:12, 21.63it/s]\u001b[A\n",
      "dataset_v2_tegu_epsg4326.tif windows:   8%|1 | 144/1710 [00:06<01:12, 21.55it/s]\u001b[A\n",
      "dataset_v2_tegu_epsg4326.tif windows:   9%|1 | 147/1710 [00:07<01:11, 21.83it/s]\u001b[A\n",
      "dataset_v2_tegu_epsg4326.tif windows:   9%|1 | 150/1710 [00:07<01:12, 21.63it/s]\u001b[A\n",
      "dataset_v2_tegu_epsg4326.tif windows:   9%|1 | 153/1710 [00:07<01:12, 21.51it/s]\u001b[A\n",
      "dataset_v2_tegu_epsg4326.tif windows:   9%|1 | 156/1710 [00:07<01:12, 21.34it/s]\u001b[A\n",
      "dataset_v2_tegu_epsg4326.tif windows:   9%|1 | 159/1710 [00:07<01:12, 21.41it/s]\u001b[A\n",
      "dataset_v2_tegu_epsg4326.tif windows:   9%|1 | 162/1710 [00:07<01:13, 21.00it/s]\u001b[A\n",
      "dataset_v2_tegu_epsg4326.tif windows:  10%|1 | 165/1710 [00:07<01:12, 21.22it/s]\u001b[A\n",
      "dataset_v2_tegu_epsg4326.tif windows:  10%|1 | 168/1710 [00:08<01:11, 21.59it/s]\u001b[A\n",
      "dataset_v2_tegu_epsg4326.tif windows:  10%|2 | 171/1710 [00:08<01:10, 21.75it/s]\u001b[A\n",
      "dataset_v2_tegu_epsg4326.tif windows:  10%|2 | 174/1710 [00:08<01:10, 21.79it/s]\u001b[A\n",
      "dataset_v2_tegu_epsg4326.tif windows:  10%|2 | 177/1710 [00:08<01:16, 20.02it/s]\u001b[A\n",
      "dataset_v2_tegu_epsg4326.tif windows:  11%|2 | 180/1710 [00:08<01:16, 20.11it/s]\u001b[A\n",
      "dataset_v2_tegu_epsg4326.tif windows:  11%|2 | 183/1710 [00:08<01:14, 20.59it/s]\u001b[A\n",
      "dataset_v2_tegu_epsg4326.tif windows:  11%|2 | 186/1710 [00:08<01:13, 20.65it/s]\u001b[A\n",
      "dataset_v2_tegu_epsg4326.tif windows:  11%|2 | 189/1710 [00:09<01:13, 20.69it/s]\u001b[A\n",
      "dataset_v2_tegu_epsg4326.tif windows:  11%|2 | 192/1710 [00:09<01:11, 21.09it/s]\u001b[A\n",
      "dataset_v2_tegu_epsg4326.tif windows:  11%|2 | 195/1710 [00:09<01:10, 21.44it/s]\u001b[A\n",
      "dataset_v2_tegu_epsg4326.tif windows:  12%|2 | 198/1710 [00:09<01:10, 21.42it/s]\u001b[A\n",
      "dataset_v2_tegu_epsg4326.tif windows:  12%|2 | 201/1710 [00:09<01:09, 21.60it/s]\u001b[A\n",
      "dataset_v2_tegu_epsg4326.tif windows:  12%|2 | 204/1710 [00:09<01:08, 21.87it/s]\u001b[A\n",
      "dataset_v2_tegu_epsg4326.tif windows:  12%|2 | 207/1710 [00:09<01:07, 22.10it/s]\u001b[A\n",
      "dataset_v2_tegu_epsg4326.tif windows:  12%|2 | 210/1710 [00:10<01:07, 22.24it/s]\u001b[A\n",
      "dataset_v2_tegu_epsg4326.tif windows:  12%|2 | 213/1710 [00:10<01:07, 22.16it/s]\u001b[A\n",
      "dataset_v2_tegu_epsg4326.tif windows:  13%|2 | 216/1710 [00:10<01:08, 21.73it/s]\u001b[A\n",
      "dataset_v2_tegu_epsg4326.tif windows:  13%|2 | 219/1710 [00:10<01:08, 21.91it/s]\u001b[A\n",
      "dataset_v2_tegu_epsg4326.tif windows:  13%|2 | 222/1710 [00:10<01:13, 20.34it/s]\u001b[A\n",
      "dataset_v2_tegu_epsg4326.tif windows:  13%|2 | 225/1710 [00:10<01:10, 20.96it/s]\u001b[A\n",
      "dataset_v2_tegu_epsg4326.tif windows:  13%|2 | 228/1710 [00:10<01:09, 21.20it/s]\u001b[A\n",
      "dataset_v2_tegu_epsg4326.tif windows:  14%|2 | 231/1710 [00:11<01:08, 21.45it/s]\u001b[A\n",
      "dataset_v2_tegu_epsg4326.tif windows:  14%|2 | 234/1710 [00:11<01:10, 20.98it/s]\u001b[A\n",
      "dataset_v2_tegu_epsg4326.tif windows:  14%|2 | 237/1710 [00:11<01:09, 21.33it/s]\u001b[A\n",
      "dataset_v2_tegu_epsg4326.tif windows:  14%|2 | 240/1710 [00:11<01:08, 21.41it/s]\u001b[A\n",
      "dataset_v2_tegu_epsg4326.tif windows:  14%|2 | 243/1710 [00:11<01:08, 21.30it/s]\u001b[A\n",
      "dataset_v2_tegu_epsg4326.tif windows:  14%|2 | 246/1710 [00:11<01:08, 21.23it/s]\u001b[A\n",
      "dataset_v2_tegu_epsg4326.tif windows:  15%|2 | 249/1710 [00:11<01:09, 21.13it/s]\u001b[A\n",
      "dataset_v2_tegu_epsg4326.tif windows:  15%|2 | 252/1710 [00:12<01:09, 21.06it/s]\u001b[A\n",
      "dataset_v2_tegu_epsg4326.tif windows:  15%|2 | 255/1710 [00:12<01:08, 21.37it/s]\u001b[A\n",
      "dataset_v2_tegu_epsg4326.tif windows:  15%|3 | 258/1710 [00:12<01:09, 20.99it/s]\u001b[A\n",
      "dataset_v2_tegu_epsg4326.tif windows:  15%|3 | 261/1710 [00:12<01:09, 20.88it/s]\u001b[A\n",
      "dataset_v2_tegu_epsg4326.tif windows:  15%|3 | 264/1710 [00:12<01:08, 21.14it/s]\u001b[A\n",
      "dataset_v2_tegu_epsg4326.tif windows:  16%|3 | 267/1710 [00:12<01:09, 20.65it/s]\u001b[A\n",
      "dataset_v2_tegu_epsg4326.tif windows:  16%|3 | 270/1710 [00:12<01:09, 20.83it/s]\u001b[A\n",
      "dataset_v2_tegu_epsg4326.tif windows:  16%|3 | 273/1710 [00:13<01:08, 20.95it/s]\u001b[A\n",
      "dataset_v2_tegu_epsg4326.tif windows:  16%|3 | 276/1710 [00:13<01:08, 21.03it/s]\u001b[A\n",
      "dataset_v2_tegu_epsg4326.tif windows:  16%|3 | 279/1710 [00:13<01:07, 21.13it/s]\u001b[A\n",
      "dataset_v2_tegu_epsg4326.tif windows:  16%|3 | 282/1710 [00:13<01:09, 20.42it/s]\u001b[A\n",
      "dataset_v2_tegu_epsg4326.tif windows:  17%|3 | 285/1710 [00:13<01:09, 20.58it/s]\u001b[A\n",
      "dataset_v2_tegu_epsg4326.tif windows:  17%|3 | 288/1710 [00:13<01:11, 20.00it/s]\u001b[A\n",
      "dataset_v2_tegu_epsg4326.tif windows:  17%|3 | 291/1710 [00:13<01:10, 20.25it/s]\u001b[A\n",
      "dataset_v2_tegu_epsg4326.tif windows:  17%|3 | 294/1710 [00:14<01:09, 20.39it/s]\u001b[A\n",
      "dataset_v2_tegu_epsg4326.tif windows:  17%|3 | 297/1710 [00:14<01:09, 20.35it/s]\u001b[A\n",
      "dataset_v2_tegu_epsg4326.tif windows:  18%|3 | 300/1710 [00:14<01:08, 20.58it/s]\u001b[A\n",
      "dataset_v2_tegu_epsg4326.tif windows:  18%|3 | 303/1710 [00:14<01:08, 20.58it/s]\u001b[A\n",
      "dataset_v2_tegu_epsg4326.tif windows:  18%|3 | 306/1710 [00:14<01:07, 20.79it/s]\u001b[A\n",
      "dataset_v2_tegu_epsg4326.tif windows:  18%|3 | 309/1710 [00:14<01:07, 20.67it/s]\u001b[A\n",
      "dataset_v2_tegu_epsg4326.tif windows:  18%|3 | 312/1710 [00:14<01:07, 20.76it/s]\u001b[A\n",
      "dataset_v2_tegu_epsg4326.tif windows:  18%|3 | 315/1710 [00:15<01:07, 20.66it/s]\u001b[A\n",
      "dataset_v2_tegu_epsg4326.tif windows:  19%|3 | 318/1710 [00:15<01:06, 20.83it/s]\u001b[A\n",
      "dataset_v2_tegu_epsg4326.tif windows:  19%|3 | 321/1710 [00:15<01:08, 20.18it/s]\u001b[A\n",
      "dataset_v2_tegu_epsg4326.tif windows:  19%|3 | 324/1710 [00:15<01:08, 20.36it/s]\u001b[A\n",
      "dataset_v2_tegu_epsg4326.tif windows:  19%|3 | 327/1710 [00:15<01:06, 20.93it/s]\u001b[A\n",
      "dataset_v2_tegu_epsg4326.tif windows:  19%|3 | 330/1710 [00:15<01:05, 21.19it/s]\u001b[A\n",
      "dataset_v2_tegu_epsg4326.tif windows:  19%|3 | 333/1710 [00:15<01:05, 21.03it/s]\u001b[A\n",
      "dataset_v2_tegu_epsg4326.tif windows:  20%|3 | 336/1710 [00:16<01:04, 21.16it/s]\u001b[A\n",
      "dataset_v2_tegu_epsg4326.tif windows:  20%|3 | 339/1710 [00:16<01:04, 21.28it/s]\u001b[A\n",
      "dataset_v2_tegu_epsg4326.tif windows:  20%|4 | 342/1710 [00:16<01:04, 21.14it/s]\u001b[A\n",
      "dataset_v2_tegu_epsg4326.tif windows:  20%|4 | 345/1710 [00:16<01:04, 21.23it/s]\u001b[A\n",
      "dataset_v2_tegu_epsg4326.tif windows:  20%|4 | 348/1710 [00:16<01:03, 21.32it/s]\u001b[A\n",
      "dataset_v2_tegu_epsg4326.tif windows:  21%|4 | 351/1710 [00:16<01:05, 20.89it/s]\u001b[A\n",
      "dataset_v2_tegu_epsg4326.tif windows:  21%|4 | 354/1710 [00:16<01:04, 20.99it/s]\u001b[A\n",
      "dataset_v2_tegu_epsg4326.tif windows:  21%|4 | 357/1710 [00:17<01:03, 21.19it/s]\u001b[A\n",
      "dataset_v2_tegu_epsg4326.tif windows:  21%|4 | 360/1710 [00:17<01:03, 21.11it/s]\u001b[A\n",
      "dataset_v2_tegu_epsg4326.tif windows:  21%|4 | 363/1710 [00:17<01:03, 21.18it/s]\u001b[A\n",
      "dataset_v2_tegu_epsg4326.tif windows:  21%|4 | 366/1710 [00:17<01:02, 21.53it/s]\u001b[A\n",
      "dataset_v2_tegu_epsg4326.tif windows:  22%|4 | 369/1710 [00:17<01:03, 21.14it/s]\u001b[A\n",
      "dataset_v2_tegu_epsg4326.tif windows:  22%|4 | 372/1710 [00:17<01:02, 21.50it/s]\u001b[A\n",
      "dataset_v2_tegu_epsg4326.tif windows:  22%|4 | 375/1710 [00:17<01:02, 21.45it/s]\u001b[A\n",
      "dataset_v2_tegu_epsg4326.tif windows:  22%|4 | 378/1710 [00:18<01:03, 21.06it/s]\u001b[A\n",
      "dataset_v2_tegu_epsg4326.tif windows:  22%|4 | 381/1710 [00:18<01:02, 21.30it/s]\u001b[A\n",
      "dataset_v2_tegu_epsg4326.tif windows:  22%|4 | 384/1710 [00:18<01:02, 21.34it/s]\u001b[A\n",
      "dataset_v2_tegu_epsg4326.tif windows:  23%|4 | 387/1710 [00:18<01:05, 20.32it/s]\u001b[A\n",
      "dataset_v2_tegu_epsg4326.tif windows:  23%|4 | 390/1710 [00:18<01:06, 19.86it/s]\u001b[A\n",
      "dataset_v2_tegu_epsg4326.tif windows:  23%|4 | 393/1710 [00:18<01:05, 20.08it/s]\u001b[A\n",
      "dataset_v2_tegu_epsg4326.tif windows:  23%|4 | 396/1710 [00:18<01:04, 20.27it/s]\u001b[A\n",
      "dataset_v2_tegu_epsg4326.tif windows:  23%|4 | 399/1710 [00:19<01:03, 20.50it/s]\u001b[A\n",
      "dataset_v2_tegu_epsg4326.tif windows:  24%|4 | 402/1710 [00:19<01:02, 20.97it/s]\u001b[A\n",
      "dataset_v2_tegu_epsg4326.tif windows:  24%|4 | 405/1710 [00:19<01:03, 20.70it/s]\u001b[A\n",
      "dataset_v2_tegu_epsg4326.tif windows:  24%|4 | 408/1710 [00:19<01:01, 21.19it/s]\u001b[A\n",
      "dataset_v2_tegu_epsg4326.tif windows:  24%|4 | 411/1710 [00:19<01:00, 21.41it/s]\u001b[A\n",
      "dataset_v2_tegu_epsg4326.tif windows:  24%|4 | 414/1710 [00:19<01:01, 21.22it/s]\u001b[A\n",
      "dataset_v2_tegu_epsg4326.tif windows:  24%|4 | 417/1710 [00:19<01:01, 21.18it/s]\u001b[A\n",
      "dataset_v2_tegu_epsg4326.tif windows:  25%|4 | 420/1710 [00:20<00:59, 21.53it/s]\u001b[A\n",
      "dataset_v2_tegu_epsg4326.tif windows:  25%|4 | 423/1710 [00:20<00:59, 21.45it/s]\u001b[A\n",
      "dataset_v2_tegu_epsg4326.tif windows:  25%|4 | 426/1710 [00:20<01:00, 21.26it/s]\u001b[A\n",
      "dataset_v2_tegu_epsg4326.tif windows:  25%|5 | 429/1710 [00:20<01:00, 21.25it/s]\u001b[A\n",
      "dataset_v2_tegu_epsg4326.tif windows:  25%|5 | 432/1710 [00:20<01:01, 20.80it/s]\u001b[A\n",
      "dataset_v2_tegu_epsg4326.tif windows:  25%|5 | 435/1710 [00:20<01:00, 21.16it/s]\u001b[A\n",
      "dataset_v2_tegu_epsg4326.tif windows:  26%|5 | 438/1710 [00:20<00:59, 21.29it/s]\u001b[A\n",
      "dataset_v2_tegu_epsg4326.tif windows:  26%|5 | 441/1710 [00:21<01:02, 20.14it/s]\u001b[A\n",
      "dataset_v2_tegu_epsg4326.tif windows:  26%|5 | 444/1710 [00:21<01:00, 21.03it/s]\u001b[A\n",
      "dataset_v2_tegu_epsg4326.tif windows:  26%|5 | 447/1710 [00:21<00:59, 21.25it/s]\u001b[A\n",
      "dataset_v2_tegu_epsg4326.tif windows:  26%|5 | 450/1710 [00:21<00:59, 21.21it/s]\u001b[A\n",
      "dataset_v2_tegu_epsg4326.tif windows:  26%|5 | 453/1710 [00:21<00:58, 21.62it/s]\u001b[A\n",
      "dataset_v2_tegu_epsg4326.tif windows:  27%|5 | 456/1710 [00:21<00:58, 21.39it/s]\u001b[A\n",
      "dataset_v2_tegu_epsg4326.tif windows:  27%|5 | 459/1710 [00:21<00:58, 21.28it/s]\u001b[A\n",
      "dataset_v2_tegu_epsg4326.tif windows:  27%|5 | 462/1710 [00:22<00:57, 21.55it/s]\u001b[A\n",
      "dataset_v2_tegu_epsg4326.tif windows:  27%|5 | 465/1710 [00:22<00:56, 22.03it/s]\u001b[A\n",
      "dataset_v2_tegu_epsg4326.tif windows:  27%|5 | 468/1710 [00:22<00:56, 21.87it/s]\u001b[A\n",
      "dataset_v2_tegu_epsg4326.tif windows:  28%|5 | 471/1710 [00:22<00:55, 22.14it/s]\u001b[A\n",
      "dataset_v2_tegu_epsg4326.tif windows:  28%|5 | 474/1710 [00:22<00:57, 21.47it/s]\u001b[A\n",
      "dataset_v2_tegu_epsg4326.tif windows:  28%|5 | 477/1710 [00:22<00:57, 21.58it/s]\u001b[A\n",
      "dataset_v2_tegu_epsg4326.tif windows:  28%|5 | 480/1710 [00:22<00:56, 21.62it/s]\u001b[A\n",
      "dataset_v2_tegu_epsg4326.tif windows:  28%|5 | 483/1710 [00:23<00:57, 21.44it/s]\u001b[A\n",
      "dataset_v2_tegu_epsg4326.tif windows:  28%|5 | 486/1710 [00:23<01:01, 19.82it/s]\u001b[A\n",
      "dataset_v2_tegu_epsg4326.tif windows:  29%|5 | 489/1710 [00:23<00:59, 20.42it/s]\u001b[A\n",
      "dataset_v2_tegu_epsg4326.tif windows:  29%|5 | 492/1710 [00:23<00:59, 20.35it/s]\u001b[A\n",
      "dataset_v2_tegu_epsg4326.tif windows:  29%|5 | 495/1710 [00:23<00:59, 20.47it/s]\u001b[A\n",
      "dataset_v2_tegu_epsg4326.tif windows:  29%|5 | 498/1710 [00:23<00:57, 20.97it/s]\u001b[A\n",
      "dataset_v2_tegu_epsg4326.tif windows:  29%|5 | 501/1710 [00:23<00:57, 20.99it/s]\u001b[A\n",
      "dataset_v2_tegu_epsg4326.tif windows:  29%|5 | 504/1710 [00:24<00:56, 21.29it/s]\u001b[A\n",
      "dataset_v2_tegu_epsg4326.tif windows:  30%|5 | 507/1710 [00:24<00:56, 21.43it/s]\u001b[A\n",
      "dataset_v2_tegu_epsg4326.tif windows:  30%|5 | 510/1710 [00:24<00:56, 21.36it/s]\u001b[A\n",
      "dataset_v2_tegu_epsg4326.tif windows:  30%|6 | 513/1710 [00:24<00:56, 21.30it/s]\u001b[A\n",
      "dataset_v2_tegu_epsg4326.tif windows:  30%|6 | 516/1710 [00:24<00:55, 21.59it/s]\u001b[A\n",
      "dataset_v2_tegu_epsg4326.tif windows:  30%|6 | 519/1710 [00:24<00:55, 21.64it/s]\u001b[A\n",
      "dataset_v2_tegu_epsg4326.tif windows:  31%|6 | 522/1710 [00:24<00:54, 21.73it/s]\u001b[A\n",
      "dataset_v2_tegu_epsg4326.tif windows:  31%|6 | 525/1710 [00:25<00:54, 21.83it/s]\u001b[A\n",
      "dataset_v2_tegu_epsg4326.tif windows:  31%|6 | 528/1710 [00:25<00:54, 21.52it/s]\u001b[A\n",
      "dataset_v2_tegu_epsg4326.tif windows:  31%|6 | 531/1710 [00:25<00:54, 21.57it/s]\u001b[A\n",
      "dataset_v2_tegu_epsg4326.tif windows:  31%|6 | 534/1710 [00:25<00:53, 21.99it/s]\u001b[A\n",
      "dataset_v2_tegu_epsg4326.tif windows:  31%|6 | 537/1710 [00:25<00:55, 21.25it/s]\u001b[A\n",
      "dataset_v2_tegu_epsg4326.tif windows:  32%|6 | 540/1710 [00:25<00:55, 20.98it/s]\u001b[A\n",
      "dataset_v2_tegu_epsg4326.tif windows:  32%|6 | 543/1710 [00:25<00:54, 21.44it/s]\u001b[A\n",
      "dataset_v2_tegu_epsg4326.tif windows:  32%|6 | 546/1710 [00:25<00:53, 21.72it/s]\u001b[A\n",
      "dataset_v2_tegu_epsg4326.tif windows:  32%|6 | 549/1710 [00:26<00:53, 21.90it/s]\u001b[A\n",
      "dataset_v2_tegu_epsg4326.tif windows:  32%|6 | 552/1710 [00:26<00:51, 22.41it/s]\u001b[A\n",
      "dataset_v2_tegu_epsg4326.tif windows:  32%|6 | 555/1710 [00:26<00:51, 22.33it/s]\u001b[A\n",
      "dataset_v2_tegu_epsg4326.tif windows:  33%|6 | 558/1710 [00:26<00:52, 21.74it/s]\u001b[A\n",
      "dataset_v2_tegu_epsg4326.tif windows:  33%|6 | 561/1710 [00:26<00:52, 21.84it/s]\u001b[A\n",
      "dataset_v2_tegu_epsg4326.tif windows:  33%|6 | 564/1710 [00:26<00:51, 22.10it/s]\u001b[A\n",
      "dataset_v2_tegu_epsg4326.tif windows:  33%|6 | 567/1710 [00:26<00:51, 22.05it/s]\u001b[A\n",
      "dataset_v2_tegu_epsg4326.tif windows:  33%|6 | 570/1710 [00:27<00:53, 21.32it/s]\u001b[A\n",
      "dataset_v2_tegu_epsg4326.tif windows:  34%|6 | 573/1710 [00:27<00:53, 21.31it/s]\u001b[A\n",
      "dataset_v2_tegu_epsg4326.tif windows:  34%|6 | 576/1710 [00:27<00:52, 21.67it/s]\u001b[A\n",
      "dataset_v2_tegu_epsg4326.tif windows:  34%|6 | 579/1710 [00:27<00:52, 21.71it/s]\u001b[A\n",
      "dataset_v2_tegu_epsg4326.tif windows:  34%|6 | 582/1710 [00:27<00:52, 21.36it/s]\u001b[A\n",
      "dataset_v2_tegu_epsg4326.tif windows:  34%|6 | 585/1710 [00:27<00:52, 21.30it/s]\u001b[A\n",
      "dataset_v2_tegu_epsg4326.tif windows:  34%|6 | 588/1710 [00:27<00:52, 21.26it/s]\u001b[A\n",
      "dataset_v2_tegu_epsg4326.tif windows:  35%|6 | 591/1710 [00:28<00:52, 21.39it/s]\u001b[A\n",
      "dataset_v2_tegu_epsg4326.tif windows:  35%|6 | 594/1710 [00:28<00:51, 21.64it/s]\u001b[A\n",
      "dataset_v2_tegu_epsg4326.tif windows:  35%|6 | 597/1710 [00:28<00:51, 21.79it/s]\u001b[A\n",
      "dataset_v2_tegu_epsg4326.tif windows:  35%|7 | 600/1710 [00:28<00:51, 21.75it/s]\u001b[A\n",
      "dataset_v2_tegu_epsg4326.tif windows:  35%|7 | 603/1710 [00:28<00:51, 21.60it/s]\u001b[A\n",
      "dataset_v2_tegu_epsg4326.tif windows:  35%|7 | 606/1710 [00:28<00:51, 21.61it/s]\u001b[A\n",
      "dataset_v2_tegu_epsg4326.tif windows:  36%|7 | 609/1710 [00:28<00:50, 21.61it/s]\u001b[A\n",
      "dataset_v2_tegu_epsg4326.tif windows:  36%|7 | 612/1710 [00:29<00:51, 21.20it/s]\u001b[A\n",
      "dataset_v2_tegu_epsg4326.tif windows:  36%|7 | 615/1710 [00:29<00:52, 20.93it/s]\u001b[A\n",
      "dataset_v2_tegu_epsg4326.tif windows:  36%|7 | 618/1710 [00:29<00:52, 20.87it/s]\u001b[A\n",
      "dataset_v2_tegu_epsg4326.tif windows:  36%|7 | 621/1710 [00:29<00:51, 21.04it/s]\u001b[A\n",
      "dataset_v2_tegu_epsg4326.tif windows:  36%|7 | 624/1710 [00:29<00:50, 21.41it/s]\u001b[A\n",
      "dataset_v2_tegu_epsg4326.tif windows:  37%|7 | 627/1710 [00:29<00:50, 21.31it/s]\u001b[A\n",
      "dataset_v2_tegu_epsg4326.tif windows:  37%|7 | 630/1710 [00:29<00:50, 21.57it/s]\u001b[A\n",
      "dataset_v2_tegu_epsg4326.tif windows:  37%|7 | 633/1710 [00:30<00:49, 21.58it/s]\u001b[A\n",
      "dataset_v2_tegu_epsg4326.tif windows:  37%|7 | 636/1710 [00:30<00:49, 21.50it/s]\u001b[A\n",
      "dataset_v2_tegu_epsg4326.tif windows:  37%|7 | 639/1710 [00:30<00:50, 21.36it/s]\u001b[A\n",
      "dataset_v2_tegu_epsg4326.tif windows:  38%|7 | 642/1710 [00:30<00:50, 21.32it/s]\u001b[A\n",
      "dataset_v2_tegu_epsg4326.tif windows:  38%|7 | 645/1710 [00:30<00:49, 21.37it/s]\u001b[A\n",
      "dataset_v2_tegu_epsg4326.tif windows:  38%|7 | 648/1710 [00:30<00:50, 21.00it/s]\u001b[A\n",
      "dataset_v2_tegu_epsg4326.tif windows:  38%|7 | 651/1710 [00:30<00:49, 21.19it/s]\u001b[A\n",
      "dataset_v2_tegu_epsg4326.tif windows:  38%|7 | 654/1710 [00:31<00:49, 21.36it/s]\u001b[A\n",
      "dataset_v2_tegu_epsg4326.tif windows:  38%|7 | 657/1710 [00:31<00:48, 21.52it/s]\u001b[A\n",
      "dataset_v2_tegu_epsg4326.tif windows:  39%|7 | 660/1710 [00:31<00:48, 21.57it/s]\u001b[A\n",
      "dataset_v2_tegu_epsg4326.tif windows:  39%|7 | 663/1710 [00:31<00:48, 21.40it/s]\u001b[A\n",
      "dataset_v2_tegu_epsg4326.tif windows:  39%|7 | 666/1710 [00:31<00:48, 21.48it/s]\u001b[A\n",
      "dataset_v2_tegu_epsg4326.tif windows:  39%|7 | 669/1710 [00:31<00:48, 21.58it/s]\u001b[A\n",
      "dataset_v2_tegu_epsg4326.tif windows:  39%|7 | 672/1710 [00:31<00:48, 21.30it/s]\u001b[A\n",
      "dataset_v2_tegu_epsg4326.tif windows:  39%|7 | 675/1710 [00:31<00:49, 21.09it/s]\u001b[A\n",
      "dataset_v2_tegu_epsg4326.tif windows:  40%|7 | 678/1710 [00:32<00:48, 21.29it/s]\u001b[A\n",
      "dataset_v2_tegu_epsg4326.tif windows:  40%|7 | 681/1710 [00:32<00:48, 21.40it/s]\u001b[A\n",
      "dataset_v2_tegu_epsg4326.tif windows:  40%|8 | 684/1710 [00:32<00:47, 21.55it/s]\u001b[A\n",
      "dataset_v2_tegu_epsg4326.tif windows:  40%|8 | 687/1710 [00:32<00:47, 21.38it/s]\u001b[A\n",
      "dataset_v2_tegu_epsg4326.tif windows:  40%|8 | 690/1710 [00:32<00:46, 21.81it/s]\u001b[A\n",
      "dataset_v2_tegu_epsg4326.tif windows:  41%|8 | 693/1710 [00:32<00:46, 21.88it/s]\u001b[A\n",
      "dataset_v2_tegu_epsg4326.tif windows:  41%|8 | 696/1710 [00:32<00:46, 21.79it/s]\u001b[A\n",
      "dataset_v2_tegu_epsg4326.tif windows:  41%|8 | 699/1710 [00:33<00:47, 21.36it/s]\u001b[A\n",
      "dataset_v2_tegu_epsg4326.tif windows:  41%|8 | 702/1710 [00:33<00:47, 21.42it/s]\u001b[A\n",
      "dataset_v2_tegu_epsg4326.tif windows:  41%|8 | 705/1710 [00:33<00:47, 21.30it/s]\u001b[A\n",
      "dataset_v2_tegu_epsg4326.tif windows:  41%|8 | 708/1710 [00:33<00:47, 21.19it/s]\u001b[A\n",
      "dataset_v2_tegu_epsg4326.tif windows:  42%|8 | 711/1710 [00:33<00:46, 21.27it/s]\u001b[A\n",
      "dataset_v2_tegu_epsg4326.tif windows:  42%|8 | 714/1710 [00:33<00:45, 21.71it/s]\u001b[A\n",
      "dataset_v2_tegu_epsg4326.tif windows:  42%|8 | 717/1710 [00:33<00:45, 21.84it/s]\u001b[A\n",
      "dataset_v2_tegu_epsg4326.tif windows:  42%|8 | 720/1710 [00:34<00:45, 21.74it/s]\u001b[A\n",
      "dataset_v2_tegu_epsg4326.tif windows:  42%|8 | 723/1710 [00:34<00:45, 21.91it/s]\u001b[A\n",
      "dataset_v2_tegu_epsg4326.tif windows:  42%|8 | 726/1710 [00:34<00:44, 21.95it/s]\u001b[A\n",
      "dataset_v2_tegu_epsg4326.tif windows:  43%|8 | 729/1710 [00:34<00:44, 21.90it/s]\u001b[A\n",
      "dataset_v2_tegu_epsg4326.tif windows:  43%|8 | 732/1710 [00:34<00:44, 21.88it/s]\u001b[A\n",
      "dataset_v2_tegu_epsg4326.tif windows:  43%|8 | 735/1710 [00:34<00:45, 21.46it/s]\u001b[A\n",
      "dataset_v2_tegu_epsg4326.tif windows:  43%|8 | 738/1710 [00:34<00:46, 21.09it/s]\u001b[A\n",
      "dataset_v2_tegu_epsg4326.tif windows:  43%|8 | 741/1710 [00:35<00:45, 21.47it/s]\u001b[A\n",
      "dataset_v2_tegu_epsg4326.tif windows:  44%|8 | 744/1710 [00:35<00:45, 21.32it/s]\u001b[A\n",
      "dataset_v2_tegu_epsg4326.tif windows:  44%|8 | 747/1710 [00:35<00:44, 21.74it/s]\u001b[A\n",
      "dataset_v2_tegu_epsg4326.tif windows:  44%|8 | 750/1710 [00:35<00:43, 21.91it/s]\u001b[A\n",
      "dataset_v2_tegu_epsg4326.tif windows:  44%|8 | 753/1710 [00:35<00:44, 21.74it/s]\u001b[A\n",
      "dataset_v2_tegu_epsg4326.tif windows:  44%|8 | 756/1710 [00:35<00:43, 21.96it/s]\u001b[A\n",
      "dataset_v2_tegu_epsg4326.tif windows:  44%|8 | 759/1710 [00:35<00:43, 21.88it/s]\u001b[A\n",
      "dataset_v2_tegu_epsg4326.tif windows:  45%|8 | 762/1710 [00:36<00:43, 21.67it/s]\u001b[A\n",
      "dataset_v2_tegu_epsg4326.tif windows:  45%|8 | 765/1710 [00:36<00:44, 21.42it/s]\u001b[A\n",
      "dataset_v2_tegu_epsg4326.tif windows:  45%|8 | 768/1710 [00:36<00:43, 21.56it/s]\u001b[A\n",
      "dataset_v2_tegu_epsg4326.tif windows:  45%|9 | 771/1710 [00:36<00:44, 21.00it/s]\u001b[A\n",
      "dataset_v2_tegu_epsg4326.tif windows:  45%|9 | 774/1710 [00:36<00:45, 20.69it/s]\u001b[A\n",
      "dataset_v2_tegu_epsg4326.tif windows:  45%|9 | 777/1710 [00:36<00:43, 21.23it/s]\u001b[A\n",
      "dataset_v2_tegu_epsg4326.tif windows:  46%|9 | 780/1710 [00:36<00:43, 21.60it/s]\u001b[A\n",
      "dataset_v2_tegu_epsg4326.tif windows:  46%|9 | 783/1710 [00:36<00:42, 21.63it/s]\u001b[A\n",
      "dataset_v2_tegu_epsg4326.tif windows:  46%|9 | 786/1710 [00:37<00:42, 21.67it/s]\u001b[A\n",
      "dataset_v2_tegu_epsg4326.tif windows:  46%|9 | 789/1710 [00:37<00:42, 21.64it/s]\u001b[A\n",
      "dataset_v2_tegu_epsg4326.tif windows:  46%|9 | 792/1710 [00:37<00:42, 21.37it/s]\u001b[A\n",
      "dataset_v2_tegu_epsg4326.tif windows:  46%|9 | 795/1710 [00:37<00:46, 19.69it/s]\u001b[A\n",
      "dataset_v2_tegu_epsg4326.tif windows:  47%|9 | 798/1710 [00:37<00:44, 20.39it/s]\u001b[A\n",
      "dataset_v2_tegu_epsg4326.tif windows:  47%|9 | 801/1710 [00:37<00:43, 20.82it/s]\u001b[A\n",
      "dataset_v2_tegu_epsg4326.tif windows:  47%|9 | 804/1710 [00:38<00:43, 21.05it/s]\u001b[A\n",
      "dataset_v2_tegu_epsg4326.tif windows:  47%|9 | 807/1710 [00:38<00:42, 21.36it/s]\u001b[A\n",
      "dataset_v2_tegu_epsg4326.tif windows:  47%|9 | 810/1710 [00:38<00:42, 21.23it/s]\u001b[A\n",
      "dataset_v2_tegu_epsg4326.tif windows:  48%|9 | 813/1710 [00:38<00:41, 21.67it/s]\u001b[A\n",
      "dataset_v2_tegu_epsg4326.tif windows:  48%|9 | 816/1710 [00:38<00:41, 21.64it/s]\u001b[A\n",
      "dataset_v2_tegu_epsg4326.tif windows:  48%|9 | 819/1710 [00:38<00:41, 21.68it/s]\u001b[A\n",
      "dataset_v2_tegu_epsg4326.tif windows:  48%|9 | 822/1710 [00:38<00:42, 21.14it/s]\u001b[A\n",
      "dataset_v2_tegu_epsg4326.tif windows:  48%|9 | 825/1710 [00:39<00:44, 19.87it/s]\u001b[A\n",
      "dataset_v2_tegu_epsg4326.tif windows:  48%|9 | 828/1710 [00:39<00:43, 20.12it/s]\u001b[A\n",
      "dataset_v2_tegu_epsg4326.tif windows:  49%|9 | 831/1710 [00:39<00:42, 20.59it/s]\u001b[A\n",
      "dataset_v2_tegu_epsg4326.tif windows:  49%|9 | 834/1710 [00:39<00:41, 21.05it/s]\u001b[A\n",
      "dataset_v2_tegu_epsg4326.tif windows:  49%|9 | 837/1710 [00:39<00:41, 20.85it/s]\u001b[A\n",
      "dataset_v2_tegu_epsg4326.tif windows:  49%|9 | 840/1710 [00:39<00:40, 21.23it/s]\u001b[A\n",
      "dataset_v2_tegu_epsg4326.tif windows:  49%|9 | 843/1710 [00:39<00:40, 21.20it/s]\u001b[A\n",
      "dataset_v2_tegu_epsg4326.tif windows:  49%|9 | 846/1710 [00:40<00:41, 20.92it/s]\u001b[A\n",
      "dataset_v2_tegu_epsg4326.tif windows:  50%|9 | 849/1710 [00:40<00:41, 20.90it/s]\u001b[A\n",
      "dataset_v2_tegu_epsg4326.tif windows:  50%|9 | 852/1710 [00:40<00:40, 21.12it/s]\u001b[A\n",
      "dataset_v2_tegu_epsg4326.tif windows:  50%|# | 855/1710 [00:40<00:41, 20.67it/s]\u001b[A\n",
      "dataset_v2_tegu_epsg4326.tif windows:  50%|# | 858/1710 [00:40<00:41, 20.51it/s]\u001b[A\n",
      "dataset_v2_tegu_epsg4326.tif windows:  50%|# | 861/1710 [00:40<00:40, 20.87it/s]\u001b[A\n",
      "dataset_v2_tegu_epsg4326.tif windows:  51%|# | 864/1710 [00:40<00:39, 21.15it/s]\u001b[A\n",
      "dataset_v2_tegu_epsg4326.tif windows:  51%|# | 867/1710 [00:41<00:41, 20.45it/s]\u001b[A\n",
      "dataset_v2_tegu_epsg4326.tif windows:  51%|# | 870/1710 [00:41<00:40, 20.72it/s]\u001b[A\n",
      "dataset_v2_tegu_epsg4326.tif windows:  51%|# | 873/1710 [00:41<00:39, 21.15it/s]\u001b[A\n",
      "dataset_v2_tegu_epsg4326.tif windows:  51%|# | 876/1710 [00:41<00:38, 21.53it/s]\u001b[A\n",
      "dataset_v2_tegu_epsg4326.tif windows:  51%|# | 879/1710 [00:41<00:38, 21.37it/s]\u001b[A\n",
      "dataset_v2_tegu_epsg4326.tif windows:  52%|# | 882/1710 [00:41<00:39, 20.88it/s]\u001b[A\n",
      "dataset_v2_tegu_epsg4326.tif windows:  52%|# | 885/1710 [00:41<00:38, 21.23it/s]\u001b[A\n",
      "dataset_v2_tegu_epsg4326.tif windows:  52%|# | 888/1710 [00:42<00:40, 20.45it/s]\u001b[A\n",
      "dataset_v2_tegu_epsg4326.tif windows:  52%|# | 891/1710 [00:42<00:39, 20.57it/s]\u001b[A\n",
      "dataset_v2_tegu_epsg4326.tif windows:  52%|# | 894/1710 [00:42<00:39, 20.79it/s]\u001b[A\n",
      "dataset_v2_tegu_epsg4326.tif windows:  52%|# | 897/1710 [00:42<00:38, 21.36it/s]\u001b[A\n",
      "dataset_v2_tegu_epsg4326.tif windows:  53%|# | 900/1710 [00:42<00:38, 21.28it/s]\u001b[A\n",
      "dataset_v2_tegu_epsg4326.tif windows:  53%|# | 903/1710 [00:42<00:37, 21.68it/s]\u001b[A\n",
      "dataset_v2_tegu_epsg4326.tif windows:  53%|# | 906/1710 [00:42<00:37, 21.70it/s]\u001b[A\n",
      "dataset_v2_tegu_epsg4326.tif windows:  53%|# | 909/1710 [00:42<00:37, 21.42it/s]\u001b[A\n",
      "dataset_v2_tegu_epsg4326.tif windows:  53%|# | 912/1710 [00:43<00:36, 21.66it/s]\u001b[A\n",
      "dataset_v2_tegu_epsg4326.tif windows:  54%|# | 915/1710 [00:43<00:36, 21.56it/s]\u001b[A\n",
      "dataset_v2_tegu_epsg4326.tif windows:  54%|# | 918/1710 [00:43<00:37, 21.06it/s]\u001b[A\n",
      "dataset_v2_tegu_epsg4326.tif windows:  54%|# | 921/1710 [00:43<00:37, 21.30it/s]\u001b[A\n",
      "dataset_v2_tegu_epsg4326.tif windows:  54%|# | 924/1710 [00:43<00:36, 21.68it/s]\u001b[A\n",
      "dataset_v2_tegu_epsg4326.tif windows:  54%|# | 927/1710 [00:43<00:36, 21.29it/s]\u001b[A\n",
      "dataset_v2_tegu_epsg4326.tif windows:  54%|# | 930/1710 [00:43<00:36, 21.16it/s]\u001b[A\n",
      "dataset_v2_tegu_epsg4326.tif windows:  55%|# | 933/1710 [00:44<00:36, 21.23it/s]\u001b[A\n",
      "dataset_v2_tegu_epsg4326.tif windows:  55%|# | 936/1710 [00:44<00:36, 21.26it/s]\u001b[A\n",
      "dataset_v2_tegu_epsg4326.tif windows:  55%|# | 939/1710 [00:44<00:36, 21.36it/s]\u001b[A\n",
      "dataset_v2_tegu_epsg4326.tif windows:  55%|#1| 942/1710 [00:44<00:36, 20.84it/s]\u001b[A\n",
      "dataset_v2_tegu_epsg4326.tif windows:  55%|#1| 945/1710 [00:44<00:36, 21.24it/s]\u001b[A\n",
      "dataset_v2_tegu_epsg4326.tif windows:  55%|#1| 948/1710 [00:44<00:35, 21.56it/s]\u001b[A\n",
      "dataset_v2_tegu_epsg4326.tif windows:  56%|#1| 951/1710 [00:44<00:35, 21.60it/s]\u001b[A\n",
      "dataset_v2_tegu_epsg4326.tif windows:  56%|#1| 954/1710 [00:45<00:34, 21.87it/s]\u001b[A\n",
      "dataset_v2_tegu_epsg4326.tif windows:  56%|#1| 957/1710 [00:45<00:34, 22.07it/s]\u001b[A\n",
      "dataset_v2_tegu_epsg4326.tif windows:  56%|#1| 960/1710 [00:45<00:35, 20.99it/s]\u001b[A\n",
      "dataset_v2_tegu_epsg4326.tif windows:  56%|#1| 963/1710 [00:45<00:35, 21.34it/s]\u001b[A\n",
      "dataset_v2_tegu_epsg4326.tif windows:  56%|#1| 966/1710 [00:45<00:35, 21.15it/s]\u001b[A\n",
      "dataset_v2_tegu_epsg4326.tif windows:  57%|#1| 969/1710 [00:45<00:34, 21.29it/s]\u001b[A\n",
      "dataset_v2_tegu_epsg4326.tif windows:  57%|#1| 972/1710 [00:45<00:34, 21.14it/s]\u001b[A\n",
      "dataset_v2_tegu_epsg4326.tif windows:  57%|#1| 975/1710 [00:46<00:34, 21.58it/s]\u001b[A\n",
      "dataset_v2_tegu_epsg4326.tif windows:  57%|#1| 978/1710 [00:46<00:33, 21.90it/s]\u001b[A\n",
      "dataset_v2_tegu_epsg4326.tif windows:  57%|#1| 981/1710 [00:46<00:34, 21.34it/s]\u001b[A\n",
      "dataset_v2_tegu_epsg4326.tif windows:  58%|#1| 984/1710 [00:46<00:33, 21.75it/s]\u001b[A\n",
      "dataset_v2_tegu_epsg4326.tif windows:  58%|#1| 987/1710 [00:46<00:33, 21.78it/s]\u001b[A\n",
      "dataset_v2_tegu_epsg4326.tif windows:  58%|#1| 990/1710 [00:46<00:33, 21.77it/s]\u001b[A\n",
      "dataset_v2_tegu_epsg4326.tif windows:  58%|#1| 993/1710 [00:46<00:32, 21.82it/s]\u001b[A\n",
      "dataset_v2_tegu_epsg4326.tif windows:  58%|#1| 996/1710 [00:47<00:32, 21.83it/s]\u001b[A\n",
      "dataset_v2_tegu_epsg4326.tif windows:  58%|#1| 999/1710 [00:47<00:32, 21.61it/s]\u001b[A\n",
      "dataset_v2_tegu_epsg4326.tif windows:  59%|5| 1002/1710 [00:47<00:32, 21.66it/s]\u001b[A\n",
      "dataset_v2_tegu_epsg4326.tif windows:  59%|5| 1005/1710 [00:47<00:32, 21.68it/s]\u001b[A\n",
      "dataset_v2_tegu_epsg4326.tif windows:  59%|5| 1008/1710 [00:47<00:32, 21.85it/s]\u001b[A\n",
      "dataset_v2_tegu_epsg4326.tif windows:  59%|5| 1011/1710 [00:47<00:31, 22.23it/s]\u001b[A\n",
      "dataset_v2_tegu_epsg4326.tif windows:  59%|5| 1014/1710 [00:47<00:32, 21.74it/s]\u001b[A\n",
      "dataset_v2_tegu_epsg4326.tif windows:  59%|5| 1017/1710 [00:48<00:31, 21.66it/s]\u001b[A\n",
      "dataset_v2_tegu_epsg4326.tif windows:  60%|5| 1020/1710 [00:48<00:31, 21.59it/s]\u001b[A\n",
      "dataset_v2_tegu_epsg4326.tif windows:  60%|5| 1023/1710 [00:48<00:32, 21.34it/s]\u001b[A\n",
      "dataset_v2_tegu_epsg4326.tif windows:  60%|6| 1026/1710 [00:48<00:32, 21.28it/s]\u001b[A\n",
      "dataset_v2_tegu_epsg4326.tif windows:  60%|6| 1029/1710 [00:48<00:32, 21.24it/s]\u001b[A\n",
      "dataset_v2_tegu_epsg4326.tif windows:  60%|6| 1032/1710 [00:48<00:31, 21.39it/s]\u001b[A\n",
      "dataset_v2_tegu_epsg4326.tif windows:  61%|6| 1035/1710 [00:48<00:31, 21.31it/s]\u001b[A\n",
      "dataset_v2_tegu_epsg4326.tif windows:  61%|6| 1038/1710 [00:49<00:31, 21.27it/s]\u001b[A\n",
      "dataset_v2_tegu_epsg4326.tif windows:  61%|6| 1041/1710 [00:49<00:32, 20.77it/s]\u001b[A\n",
      "dataset_v2_tegu_epsg4326.tif windows:  61%|6| 1044/1710 [00:49<00:32, 20.65it/s]\u001b[A\n",
      "dataset_v2_tegu_epsg4326.tif windows:  61%|6| 1047/1710 [00:49<00:31, 20.82it/s]\u001b[A\n",
      "dataset_v2_tegu_epsg4326.tif windows:  61%|6| 1050/1710 [00:49<00:31, 20.88it/s]\u001b[A\n",
      "dataset_v2_tegu_epsg4326.tif windows:  62%|6| 1053/1710 [00:49<00:31, 20.74it/s]\u001b[A\n",
      "dataset_v2_tegu_epsg4326.tif windows:  62%|6| 1056/1710 [00:49<00:31, 20.78it/s]\u001b[A\n",
      "dataset_v2_tegu_epsg4326.tif windows:  62%|6| 1059/1710 [00:50<00:33, 19.56it/s]\u001b[A\n",
      "dataset_v2_tegu_epsg4326.tif windows:  62%|6| 1062/1710 [00:50<00:32, 19.77it/s]\u001b[A\n",
      "dataset_v2_tegu_epsg4326.tif windows:  62%|6| 1065/1710 [00:50<00:31, 20.20it/s]\u001b[A\n",
      "dataset_v2_tegu_epsg4326.tif windows:  62%|6| 1068/1710 [00:50<00:32, 19.91it/s]\u001b[A\n",
      "dataset_v2_tegu_epsg4326.tif windows:  63%|6| 1070/1710 [00:50<00:32, 19.77it/s]\u001b[A\n",
      "dataset_v2_tegu_epsg4326.tif windows:  63%|6| 1073/1710 [00:50<00:31, 20.53it/s]\u001b[A\n",
      "dataset_v2_tegu_epsg4326.tif windows:  63%|6| 1076/1710 [00:50<00:30, 20.62it/s]\u001b[A\n",
      "dataset_v2_tegu_epsg4326.tif windows:  63%|6| 1079/1710 [00:51<00:30, 20.54it/s]\u001b[A\n",
      "dataset_v2_tegu_epsg4326.tif windows:  63%|6| 1082/1710 [00:51<00:30, 20.30it/s]\u001b[A\n",
      "dataset_v2_tegu_epsg4326.tif windows:  63%|6| 1085/1710 [00:51<00:30, 20.73it/s]\u001b[A\n",
      "dataset_v2_tegu_epsg4326.tif windows:  64%|6| 1088/1710 [00:51<00:30, 20.73it/s]\u001b[A\n",
      "dataset_v2_tegu_epsg4326.tif windows:  64%|6| 1091/1710 [00:51<00:29, 20.79it/s]\u001b[A\n",
      "dataset_v2_tegu_epsg4326.tif windows:  64%|6| 1094/1710 [00:51<00:29, 20.73it/s]\u001b[A\n",
      "dataset_v2_tegu_epsg4326.tif windows:  64%|6| 1097/1710 [00:51<00:29, 20.99it/s]\u001b[A\n",
      "dataset_v2_tegu_epsg4326.tif windows:  64%|6| 1100/1710 [00:52<00:28, 21.06it/s]\u001b[A\n",
      "dataset_v2_tegu_epsg4326.tif windows:  65%|6| 1103/1710 [00:52<00:28, 21.01it/s]\u001b[A\n",
      "dataset_v2_tegu_epsg4326.tif windows:  65%|6| 1106/1710 [00:52<00:28, 21.10it/s]\u001b[A\n",
      "dataset_v2_tegu_epsg4326.tif windows:  65%|6| 1109/1710 [00:52<00:28, 21.37it/s]\u001b[A\n",
      "dataset_v2_tegu_epsg4326.tif windows:  65%|6| 1112/1710 [00:52<00:28, 20.83it/s]\u001b[A\n",
      "dataset_v2_tegu_epsg4326.tif windows:  65%|6| 1115/1710 [00:52<00:28, 20.63it/s]\u001b[A\n",
      "dataset_v2_tegu_epsg4326.tif windows:  65%|6| 1118/1710 [00:52<00:28, 21.09it/s]\u001b[A\n",
      "dataset_v2_tegu_epsg4326.tif windows:  66%|6| 1121/1710 [00:53<00:27, 21.16it/s]\u001b[A\n",
      "dataset_v2_tegu_epsg4326.tif windows:  66%|6| 1124/1710 [00:53<00:27, 21.24it/s]\u001b[A\n",
      "dataset_v2_tegu_epsg4326.tif windows:  66%|6| 1127/1710 [00:53<00:27, 21.24it/s]\u001b[A\n",
      "dataset_v2_tegu_epsg4326.tif windows:  66%|6| 1130/1710 [00:53<00:27, 21.35it/s]\u001b[A\n",
      "dataset_v2_tegu_epsg4326.tif windows:  66%|6| 1133/1710 [00:53<00:26, 21.43it/s]\u001b[A\n",
      "dataset_v2_tegu_epsg4326.tif windows:  66%|6| 1136/1710 [00:53<00:26, 21.71it/s]\u001b[A\n",
      "dataset_v2_tegu_epsg4326.tif windows:  67%|6| 1139/1710 [00:53<00:26, 21.63it/s]\u001b[A\n",
      "dataset_v2_tegu_epsg4326.tif windows:  67%|6| 1142/1710 [00:53<00:26, 21.74it/s]\u001b[A\n",
      "dataset_v2_tegu_epsg4326.tif windows:  67%|6| 1145/1710 [00:54<00:26, 21.16it/s]\u001b[A\n",
      "dataset_v2_tegu_epsg4326.tif windows:  67%|6| 1148/1710 [00:54<00:26, 21.20it/s]\u001b[A\n",
      "dataset_v2_tegu_epsg4326.tif windows:  67%|6| 1151/1710 [00:54<00:26, 21.25it/s]\u001b[A\n",
      "dataset_v2_tegu_epsg4326.tif windows:  67%|6| 1154/1710 [00:54<00:26, 21.31it/s]\u001b[A\n",
      "dataset_v2_tegu_epsg4326.tif windows:  68%|6| 1157/1710 [00:54<00:25, 21.45it/s]\u001b[A\n",
      "dataset_v2_tegu_epsg4326.tif windows:  68%|6| 1160/1710 [00:54<00:25, 21.76it/s]\u001b[A\n",
      "dataset_v2_tegu_epsg4326.tif windows:  68%|6| 1163/1710 [00:54<00:24, 21.98it/s]\u001b[A\n",
      "dataset_v2_tegu_epsg4326.tif windows:  68%|6| 1166/1710 [00:55<00:24, 21.85it/s]\u001b[A\n",
      "dataset_v2_tegu_epsg4326.tif windows:  68%|6| 1169/1710 [00:55<00:24, 21.92it/s]\u001b[A\n",
      "dataset_v2_tegu_epsg4326.tif windows:  69%|6| 1172/1710 [00:55<00:24, 21.92it/s]\u001b[A\n",
      "dataset_v2_tegu_epsg4326.tif windows:  69%|6| 1175/1710 [00:55<00:24, 22.24it/s]\u001b[A\n",
      "dataset_v2_tegu_epsg4326.tif windows:  69%|6| 1178/1710 [00:55<00:24, 22.01it/s]\u001b[A\n",
      "dataset_v2_tegu_epsg4326.tif windows:  69%|6| 1181/1710 [00:55<00:24, 21.99it/s]\u001b[A\n",
      "dataset_v2_tegu_epsg4326.tif windows:  69%|6| 1184/1710 [00:55<00:23, 22.25it/s]\u001b[A\n",
      "dataset_v2_tegu_epsg4326.tif windows:  69%|6| 1187/1710 [00:56<00:24, 21.74it/s]\u001b[A\n",
      "dataset_v2_tegu_epsg4326.tif windows:  70%|6| 1190/1710 [00:56<00:24, 21.21it/s]\u001b[A\n",
      "dataset_v2_tegu_epsg4326.tif windows:  70%|6| 1193/1710 [00:56<00:24, 21.42it/s]\u001b[A\n",
      "dataset_v2_tegu_epsg4326.tif windows:  70%|6| 1196/1710 [00:56<00:23, 21.57it/s]\u001b[A\n",
      "dataset_v2_tegu_epsg4326.tif windows:  70%|7| 1199/1710 [00:56<00:24, 21.27it/s]\u001b[A\n",
      "dataset_v2_tegu_epsg4326.tif windows:  70%|7| 1202/1710 [00:56<00:23, 21.50it/s]\u001b[A\n",
      "dataset_v2_tegu_epsg4326.tif windows:  70%|7| 1205/1710 [00:56<00:23, 21.25it/s]\u001b[A\n",
      "dataset_v2_tegu_epsg4326.tif windows:  71%|7| 1208/1710 [00:57<00:23, 21.60it/s]\u001b[A\n",
      "dataset_v2_tegu_epsg4326.tif windows:  71%|7| 1211/1710 [00:57<00:22, 21.73it/s]\u001b[A\n",
      "dataset_v2_tegu_epsg4326.tif windows:  71%|7| 1214/1710 [00:57<00:23, 21.35it/s]\u001b[A\n",
      "dataset_v2_tegu_epsg4326.tif windows:  71%|7| 1217/1710 [00:57<00:23, 21.18it/s]\u001b[A\n",
      "dataset_v2_tegu_epsg4326.tif windows:  71%|7| 1220/1710 [00:57<00:22, 21.76it/s]\u001b[A\n",
      "dataset_v2_tegu_epsg4326.tif windows:  72%|7| 1223/1710 [00:57<00:22, 21.69it/s]\u001b[A\n",
      "dataset_v2_tegu_epsg4326.tif windows:  72%|7| 1226/1710 [00:57<00:22, 21.40it/s]\u001b[A\n",
      "dataset_v2_tegu_epsg4326.tif windows:  72%|7| 1229/1710 [00:58<00:22, 21.05it/s]\u001b[A\n",
      "dataset_v2_tegu_epsg4326.tif windows:  72%|7| 1232/1710 [00:58<00:22, 20.84it/s]\u001b[A\n",
      "dataset_v2_tegu_epsg4326.tif windows:  72%|7| 1235/1710 [00:58<00:22, 21.30it/s]\u001b[A\n",
      "dataset_v2_tegu_epsg4326.tif windows:  72%|7| 1238/1710 [00:58<00:21, 21.46it/s]\u001b[A\n",
      "dataset_v2_tegu_epsg4326.tif windows:  73%|7| 1241/1710 [00:58<00:22, 21.12it/s]\u001b[A\n",
      "dataset_v2_tegu_epsg4326.tif windows:  73%|7| 1244/1710 [00:58<00:21, 21.26it/s]\u001b[A\n",
      "dataset_v2_tegu_epsg4326.tif windows:  73%|7| 1247/1710 [00:58<00:21, 21.29it/s]\u001b[A\n",
      "dataset_v2_tegu_epsg4326.tif windows:  73%|7| 1250/1710 [00:59<00:21, 20.99it/s]\u001b[A\n",
      "dataset_v2_tegu_epsg4326.tif windows:  73%|7| 1253/1710 [00:59<00:21, 20.97it/s]\u001b[A\n",
      "dataset_v2_tegu_epsg4326.tif windows:  73%|7| 1256/1710 [00:59<00:21, 21.33it/s]\u001b[A\n",
      "dataset_v2_tegu_epsg4326.tif windows:  74%|7| 1259/1710 [00:59<00:20, 21.70it/s]\u001b[A\n",
      "dataset_v2_tegu_epsg4326.tif windows:  74%|7| 1262/1710 [00:59<00:21, 21.03it/s]\u001b[A\n",
      "dataset_v2_tegu_epsg4326.tif windows:  74%|7| 1265/1710 [00:59<00:21, 21.03it/s]\u001b[A\n",
      "dataset_v2_tegu_epsg4326.tif windows:  74%|7| 1268/1710 [00:59<00:20, 21.34it/s]\u001b[A\n",
      "dataset_v2_tegu_epsg4326.tif windows:  74%|7| 1271/1710 [01:00<00:20, 21.48it/s]\u001b[A\n",
      "dataset_v2_tegu_epsg4326.tif windows:  75%|7| 1274/1710 [01:00<00:20, 21.65it/s]\u001b[A\n",
      "dataset_v2_tegu_epsg4326.tif windows:  75%|7| 1277/1710 [01:00<00:20, 21.54it/s]\u001b[A\n",
      "dataset_v2_tegu_epsg4326.tif windows:  75%|7| 1280/1710 [01:00<00:20, 21.37it/s]\u001b[A\n",
      "dataset_v2_tegu_epsg4326.tif windows:  75%|7| 1283/1710 [01:00<00:20, 21.18it/s]\u001b[A\n",
      "dataset_v2_tegu_epsg4326.tif windows:  75%|7| 1286/1710 [01:00<00:19, 21.21it/s]\u001b[A\n",
      "dataset_v2_tegu_epsg4326.tif windows:  75%|7| 1289/1710 [01:00<00:19, 21.27it/s]\u001b[A\n",
      "dataset_v2_tegu_epsg4326.tif windows:  76%|7| 1292/1710 [01:00<00:19, 21.22it/s]\u001b[A\n",
      "dataset_v2_tegu_epsg4326.tif windows:  76%|7| 1295/1710 [01:01<00:19, 21.36it/s]\u001b[A\n",
      "dataset_v2_tegu_epsg4326.tif windows:  76%|7| 1298/1710 [01:01<00:19, 21.25it/s]\u001b[A\n",
      "dataset_v2_tegu_epsg4326.tif windows:  76%|7| 1301/1710 [01:01<00:19, 21.16it/s]\u001b[A\n",
      "dataset_v2_tegu_epsg4326.tif windows:  76%|7| 1304/1710 [01:01<00:19, 21.03it/s]\u001b[A\n",
      "dataset_v2_tegu_epsg4326.tif windows:  76%|7| 1307/1710 [01:01<00:18, 21.42it/s]\u001b[A\n",
      "dataset_v2_tegu_epsg4326.tif windows:  77%|7| 1310/1710 [01:01<00:18, 21.86it/s]\u001b[A\n",
      "dataset_v2_tegu_epsg4326.tif windows:  77%|7| 1313/1710 [01:01<00:18, 21.70it/s]\u001b[A\n",
      "dataset_v2_tegu_epsg4326.tif windows:  77%|7| 1316/1710 [01:02<00:18, 21.46it/s]\u001b[A\n",
      "dataset_v2_tegu_epsg4326.tif windows:  77%|7| 1319/1710 [01:02<00:18, 21.54it/s]\u001b[A\n",
      "dataset_v2_tegu_epsg4326.tif windows:  77%|7| 1322/1710 [01:02<00:18, 21.07it/s]\u001b[A\n",
      "dataset_v2_tegu_epsg4326.tif windows:  77%|7| 1325/1710 [01:02<00:18, 21.05it/s]\u001b[A\n",
      "dataset_v2_tegu_epsg4326.tif windows:  78%|7| 1328/1710 [01:02<00:17, 21.47it/s]\u001b[A\n",
      "dataset_v2_tegu_epsg4326.tif windows:  78%|7| 1331/1710 [01:02<00:17, 21.24it/s]\u001b[A\n",
      "dataset_v2_tegu_epsg4326.tif windows:  78%|7| 1334/1710 [01:02<00:17, 21.03it/s]\u001b[A\n",
      "dataset_v2_tegu_epsg4326.tif windows:  78%|7| 1337/1710 [01:03<00:17, 21.09it/s]\u001b[A\n",
      "dataset_v2_tegu_epsg4326.tif windows:  78%|7| 1340/1710 [01:03<00:17, 20.82it/s]\u001b[A\n",
      "dataset_v2_tegu_epsg4326.tif windows:  79%|7| 1343/1710 [01:03<00:17, 20.92it/s]\u001b[A\n",
      "dataset_v2_tegu_epsg4326.tif windows:  79%|7| 1346/1710 [01:03<00:17, 20.95it/s]\u001b[A\n",
      "dataset_v2_tegu_epsg4326.tif windows:  79%|7| 1349/1710 [01:03<00:16, 21.24it/s]\u001b[A\n",
      "dataset_v2_tegu_epsg4326.tif windows:  79%|7| 1352/1710 [01:03<00:16, 21.10it/s]\u001b[A\n",
      "dataset_v2_tegu_epsg4326.tif windows:  79%|7| 1355/1710 [01:03<00:17, 20.66it/s]\u001b[A\n",
      "dataset_v2_tegu_epsg4326.tif windows:  79%|7| 1358/1710 [01:04<00:16, 20.89it/s]\u001b[A\n",
      "dataset_v2_tegu_epsg4326.tif windows:  80%|7| 1361/1710 [01:04<00:16, 21.12it/s]\u001b[A\n",
      "dataset_v2_tegu_epsg4326.tif windows:  80%|7| 1364/1710 [01:04<00:16, 20.99it/s]\u001b[A\n",
      "dataset_v2_tegu_epsg4326.tif windows:  80%|7| 1367/1710 [01:04<00:16, 20.59it/s]\u001b[A\n",
      "dataset_v2_tegu_epsg4326.tif windows:  80%|8| 1370/1710 [01:04<00:16, 20.87it/s]\u001b[A\n",
      "dataset_v2_tegu_epsg4326.tif windows:  80%|8| 1373/1710 [01:04<00:15, 21.74it/s]\u001b[A\n",
      "dataset_v2_tegu_epsg4326.tif windows:  80%|8| 1376/1710 [01:04<00:15, 21.73it/s]\u001b[A\n",
      "dataset_v2_tegu_epsg4326.tif windows:  81%|8| 1379/1710 [01:05<00:15, 21.48it/s]\u001b[A\n",
      "dataset_v2_tegu_epsg4326.tif windows:  81%|8| 1382/1710 [01:05<00:15, 21.30it/s]\u001b[A\n",
      "dataset_v2_tegu_epsg4326.tif windows:  81%|8| 1385/1710 [01:05<00:15, 20.90it/s]\u001b[A\n",
      "dataset_v2_tegu_epsg4326.tif windows:  81%|8| 1388/1710 [01:05<00:15, 21.35it/s]\u001b[A\n",
      "dataset_v2_tegu_epsg4326.tif windows:  81%|8| 1391/1710 [01:05<00:15, 21.18it/s]\u001b[A\n",
      "dataset_v2_tegu_epsg4326.tif windows:  82%|8| 1394/1710 [01:05<00:14, 21.40it/s]\u001b[A\n",
      "dataset_v2_tegu_epsg4326.tif windows:  82%|8| 1397/1710 [01:05<00:14, 21.70it/s]\u001b[A\n",
      "dataset_v2_tegu_epsg4326.tif windows:  82%|8| 1400/1710 [01:06<00:13, 22.18it/s]\u001b[A\n",
      "dataset_v2_tegu_epsg4326.tif windows:  82%|8| 1403/1710 [01:06<00:13, 22.10it/s]\u001b[A\n",
      "dataset_v2_tegu_epsg4326.tif windows:  82%|8| 1406/1710 [01:06<00:13, 21.81it/s]\u001b[A\n",
      "dataset_v2_tegu_epsg4326.tif windows:  82%|8| 1409/1710 [01:06<00:13, 22.14it/s]\u001b[A\n",
      "dataset_v2_tegu_epsg4326.tif windows:  83%|8| 1412/1710 [01:06<00:13, 21.91it/s]\u001b[A\n",
      "dataset_v2_tegu_epsg4326.tif windows:  83%|8| 1415/1710 [01:06<00:13, 22.19it/s]\u001b[A\n",
      "dataset_v2_tegu_epsg4326.tif windows:  83%|8| 1418/1710 [01:06<00:13, 21.93it/s]\u001b[A\n",
      "dataset_v2_tegu_epsg4326.tif windows:  83%|8| 1421/1710 [01:07<00:13, 21.88it/s]\u001b[A\n",
      "dataset_v2_tegu_epsg4326.tif windows:  83%|8| 1424/1710 [01:07<00:13, 21.62it/s]\u001b[A\n",
      "dataset_v2_tegu_epsg4326.tif windows:  83%|8| 1427/1710 [01:07<00:13, 21.31it/s]\u001b[A\n",
      "dataset_v2_tegu_epsg4326.tif windows:  84%|8| 1430/1710 [01:07<00:12, 21.83it/s]\u001b[A\n",
      "dataset_v2_tegu_epsg4326.tif windows:  84%|8| 1433/1710 [01:07<00:12, 21.84it/s]\u001b[A\n",
      "dataset_v2_tegu_epsg4326.tif windows:  84%|8| 1436/1710 [01:07<00:12, 21.61it/s]\u001b[A\n",
      "dataset_v2_tegu_epsg4326.tif windows:  84%|8| 1439/1710 [01:07<00:12, 21.65it/s]\u001b[A\n",
      "dataset_v2_tegu_epsg4326.tif windows:  84%|8| 1442/1710 [01:07<00:12, 21.80it/s]\u001b[A\n",
      "dataset_v2_tegu_epsg4326.tif windows:  85%|8| 1445/1710 [01:08<00:12, 21.55it/s]\u001b[A\n",
      "dataset_v2_tegu_epsg4326.tif windows:  85%|8| 1448/1710 [01:08<00:12, 21.49it/s]\u001b[A\n",
      "dataset_v2_tegu_epsg4326.tif windows:  85%|8| 1451/1710 [01:08<00:12, 21.37it/s]\u001b[A\n",
      "dataset_v2_tegu_epsg4326.tif windows:  85%|8| 1454/1710 [01:08<00:12, 20.78it/s]\u001b[A\n",
      "dataset_v2_tegu_epsg4326.tif windows:  85%|8| 1457/1710 [01:08<00:11, 21.10it/s]\u001b[A\n",
      "dataset_v2_tegu_epsg4326.tif windows:  85%|8| 1460/1710 [01:08<00:11, 21.28it/s]\u001b[A\n",
      "dataset_v2_tegu_epsg4326.tif windows:  86%|8| 1463/1710 [01:08<00:11, 21.24it/s]\u001b[A\n",
      "dataset_v2_tegu_epsg4326.tif windows:  86%|8| 1466/1710 [01:09<00:11, 21.19it/s]\u001b[A\n",
      "dataset_v2_tegu_epsg4326.tif windows:  86%|8| 1469/1710 [01:09<00:11, 21.58it/s]\u001b[A\n",
      "dataset_v2_tegu_epsg4326.tif windows:  86%|8| 1472/1710 [01:09<00:10, 21.68it/s]\u001b[A\n",
      "dataset_v2_tegu_epsg4326.tif windows:  86%|8| 1475/1710 [01:09<00:10, 22.00it/s]\u001b[A\n",
      "dataset_v2_tegu_epsg4326.tif windows:  86%|8| 1478/1710 [01:09<00:10, 22.29it/s]\u001b[A\n",
      "dataset_v2_tegu_epsg4326.tif windows:  87%|8| 1481/1710 [01:09<00:10, 22.33it/s]\u001b[A\n",
      "dataset_v2_tegu_epsg4326.tif windows:  87%|8| 1484/1710 [01:09<00:10, 21.90it/s]\u001b[A\n",
      "dataset_v2_tegu_epsg4326.tif windows:  87%|8| 1487/1710 [01:10<00:10, 22.22it/s]\u001b[A\n",
      "dataset_v2_tegu_epsg4326.tif windows:  87%|8| 1490/1710 [01:10<00:10, 21.93it/s]\u001b[A\n",
      "dataset_v2_tegu_epsg4326.tif windows:  87%|8| 1493/1710 [01:10<00:09, 21.91it/s]\u001b[A\n",
      "dataset_v2_tegu_epsg4326.tif windows:  87%|8| 1496/1710 [01:10<00:09, 21.68it/s]\u001b[A\n",
      "dataset_v2_tegu_epsg4326.tif windows:  88%|8| 1499/1710 [01:10<00:09, 21.23it/s]\u001b[A\n",
      "dataset_v2_tegu_epsg4326.tif windows:  88%|8| 1502/1710 [01:10<00:09, 21.58it/s]\u001b[A\n",
      "dataset_v2_tegu_epsg4326.tif windows:  88%|8| 1505/1710 [01:10<00:09, 21.52it/s]\u001b[A\n",
      "dataset_v2_tegu_epsg4326.tif windows:  88%|8| 1508/1710 [01:11<00:09, 21.88it/s]\u001b[A\n",
      "dataset_v2_tegu_epsg4326.tif windows:  88%|8| 1511/1710 [01:11<00:09, 22.08it/s]\u001b[A\n",
      "dataset_v2_tegu_epsg4326.tif windows:  89%|8| 1514/1710 [01:11<00:08, 22.14it/s]\u001b[A\n",
      "dataset_v2_tegu_epsg4326.tif windows:  89%|8| 1517/1710 [01:11<00:08, 22.10it/s]\u001b[A\n",
      "dataset_v2_tegu_epsg4326.tif windows:  89%|8| 1520/1710 [01:11<00:08, 21.97it/s]\u001b[A\n",
      "dataset_v2_tegu_epsg4326.tif windows:  89%|8| 1523/1710 [01:11<00:08, 21.67it/s]\u001b[A\n",
      "dataset_v2_tegu_epsg4326.tif windows:  89%|8| 1526/1710 [01:11<00:08, 21.67it/s]\u001b[A\n",
      "dataset_v2_tegu_epsg4326.tif windows:  89%|8| 1529/1710 [01:12<00:08, 21.74it/s]\u001b[A\n",
      "dataset_v2_tegu_epsg4326.tif windows:  90%|8| 1532/1710 [01:12<00:08, 21.48it/s]\u001b[A\n",
      "dataset_v2_tegu_epsg4326.tif windows:  90%|8| 1535/1710 [01:12<00:08, 21.50it/s]\u001b[A\n",
      "dataset_v2_tegu_epsg4326.tif windows:  90%|8| 1538/1710 [01:12<00:07, 21.66it/s]\u001b[A\n",
      "dataset_v2_tegu_epsg4326.tif windows:  90%|9| 1541/1710 [01:12<00:07, 21.51it/s]\u001b[A\n",
      "dataset_v2_tegu_epsg4326.tif windows:  90%|9| 1544/1710 [01:12<00:07, 21.62it/s]\u001b[A\n",
      "dataset_v2_tegu_epsg4326.tif windows:  90%|9| 1547/1710 [01:12<00:07, 21.98it/s]\u001b[A\n",
      "dataset_v2_tegu_epsg4326.tif windows:  91%|9| 1550/1710 [01:12<00:07, 21.86it/s]\u001b[A\n",
      "dataset_v2_tegu_epsg4326.tif windows:  91%|9| 1553/1710 [01:13<00:07, 21.70it/s]\u001b[A\n",
      "dataset_v2_tegu_epsg4326.tif windows:  91%|9| 1556/1710 [01:13<00:07, 20.98it/s]\u001b[A\n",
      "dataset_v2_tegu_epsg4326.tif windows:  91%|9| 1559/1710 [01:13<00:07, 20.63it/s]\u001b[A\n",
      "dataset_v2_tegu_epsg4326.tif windows:  91%|9| 1562/1710 [01:13<00:07, 20.90it/s]\u001b[A\n",
      "dataset_v2_tegu_epsg4326.tif windows:  92%|9| 1565/1710 [01:13<00:07, 20.47it/s]\u001b[A\n",
      "dataset_v2_tegu_epsg4326.tif windows:  92%|9| 1568/1710 [01:13<00:06, 20.76it/s]\u001b[A\n",
      "dataset_v2_tegu_epsg4326.tif windows:  92%|9| 1571/1710 [01:14<00:06, 20.63it/s]\u001b[A\n",
      "dataset_v2_tegu_epsg4326.tif windows:  92%|9| 1574/1710 [01:14<00:06, 20.88it/s]\u001b[A\n",
      "dataset_v2_tegu_epsg4326.tif windows:  92%|9| 1577/1710 [01:14<00:06, 20.97it/s]\u001b[A\n",
      "dataset_v2_tegu_epsg4326.tif windows:  92%|9| 1580/1710 [01:14<00:06, 21.03it/s]\u001b[A\n",
      "dataset_v2_tegu_epsg4326.tif windows:  93%|9| 1583/1710 [01:14<00:05, 21.22it/s]\u001b[A\n",
      "dataset_v2_tegu_epsg4326.tif windows:  93%|9| 1586/1710 [01:14<00:05, 21.16it/s]\u001b[A\n",
      "dataset_v2_tegu_epsg4326.tif windows:  93%|9| 1589/1710 [01:14<00:05, 21.16it/s]\u001b[A\n",
      "dataset_v2_tegu_epsg4326.tif windows:  93%|9| 1592/1710 [01:14<00:05, 21.23it/s]\u001b[A\n",
      "dataset_v2_tegu_epsg4326.tif windows:  93%|9| 1595/1710 [01:15<00:05, 21.14it/s]\u001b[A\n",
      "dataset_v2_tegu_epsg4326.tif windows:  93%|9| 1598/1710 [01:15<00:05, 21.42it/s]\u001b[A\n",
      "dataset_v2_tegu_epsg4326.tif windows:  94%|9| 1601/1710 [01:15<00:05, 21.13it/s]\u001b[A\n",
      "dataset_v2_tegu_epsg4326.tif windows:  94%|9| 1604/1710 [01:15<00:04, 21.36it/s]\u001b[A\n",
      "dataset_v2_tegu_epsg4326.tif windows:  94%|9| 1607/1710 [01:15<00:04, 21.49it/s]\u001b[A\n",
      "dataset_v2_tegu_epsg4326.tif windows:  94%|9| 1610/1710 [01:15<00:04, 21.32it/s]\u001b[A\n",
      "dataset_v2_tegu_epsg4326.tif windows:  94%|9| 1613/1710 [01:15<00:04, 21.40it/s]\u001b[A\n",
      "dataset_v2_tegu_epsg4326.tif windows:  95%|9| 1616/1710 [01:16<00:04, 21.66it/s]\u001b[A\n",
      "dataset_v2_tegu_epsg4326.tif windows:  95%|9| 1619/1710 [01:16<00:04, 21.76it/s]\u001b[A\n",
      "dataset_v2_tegu_epsg4326.tif windows:  95%|9| 1622/1710 [01:16<00:04, 21.72it/s]\u001b[A\n",
      "dataset_v2_tegu_epsg4326.tif windows:  95%|9| 1625/1710 [01:16<00:03, 21.62it/s]\u001b[A\n",
      "dataset_v2_tegu_epsg4326.tif windows:  95%|9| 1628/1710 [01:16<00:03, 21.92it/s]\u001b[A\n",
      "dataset_v2_tegu_epsg4326.tif windows:  95%|9| 1631/1710 [01:16<00:03, 22.02it/s]\u001b[A\n",
      "dataset_v2_tegu_epsg4326.tif windows:  96%|9| 1634/1710 [01:16<00:03, 21.85it/s]\u001b[A\n",
      "dataset_v2_tegu_epsg4326.tif windows:  96%|9| 1637/1710 [01:17<00:03, 21.62it/s]\u001b[A\n",
      "dataset_v2_tegu_epsg4326.tif windows:  96%|9| 1640/1710 [01:17<00:03, 21.71it/s]\u001b[A\n",
      "dataset_v2_tegu_epsg4326.tif windows:  96%|9| 1643/1710 [01:17<00:03, 21.58it/s]\u001b[A\n",
      "dataset_v2_tegu_epsg4326.tif windows:  96%|9| 1646/1710 [01:17<00:02, 21.48it/s]\u001b[A\n",
      "dataset_v2_tegu_epsg4326.tif windows:  96%|9| 1649/1710 [01:17<00:02, 21.71it/s]\u001b[A\n",
      "dataset_v2_tegu_epsg4326.tif windows:  97%|9| 1652/1710 [01:17<00:02, 21.82it/s]\u001b[A\n",
      "dataset_v2_tegu_epsg4326.tif windows:  97%|9| 1655/1710 [01:17<00:02, 21.61it/s]\u001b[A\n",
      "dataset_v2_tegu_epsg4326.tif windows:  97%|9| 1658/1710 [01:18<00:02, 21.81it/s]\u001b[A\n",
      "dataset_v2_tegu_epsg4326.tif windows:  97%|9| 1661/1710 [01:18<00:02, 21.94it/s]\u001b[A\n",
      "dataset_v2_tegu_epsg4326.tif windows:  97%|9| 1664/1710 [01:18<00:02, 21.97it/s]\u001b[A\n",
      "dataset_v2_tegu_epsg4326.tif windows:  97%|9| 1667/1710 [01:18<00:01, 21.74it/s]\u001b[A\n",
      "dataset_v2_tegu_epsg4326.tif windows:  98%|9| 1670/1710 [01:18<00:01, 21.54it/s]\u001b[A\n",
      "dataset_v2_tegu_epsg4326.tif windows:  98%|9| 1673/1710 [01:18<00:01, 21.40it/s]\u001b[A\n",
      "dataset_v2_tegu_epsg4326.tif windows:  98%|9| 1676/1710 [01:18<00:01, 21.64it/s]\u001b[A\n",
      "dataset_v2_tegu_epsg4326.tif windows:  98%|9| 1679/1710 [01:19<00:01, 21.45it/s]\u001b[A\n",
      "dataset_v2_tegu_epsg4326.tif windows:  98%|9| 1682/1710 [01:19<00:01, 21.68it/s]\u001b[A\n",
      "dataset_v2_tegu_epsg4326.tif windows:  99%|9| 1685/1710 [01:19<00:01, 21.60it/s]\u001b[A\n",
      "dataset_v2_tegu_epsg4326.tif windows:  99%|9| 1688/1710 [01:19<00:01, 21.42it/s]\u001b[A\n",
      "dataset_v2_tegu_epsg4326.tif windows:  99%|9| 1691/1710 [01:19<00:00, 21.23it/s]\u001b[A\n",
      "dataset_v2_tegu_epsg4326.tif windows:  99%|9| 1694/1710 [01:19<00:00, 21.60it/s]\u001b[A\n",
      "dataset_v2_tegu_epsg4326.tif windows:  99%|9| 1697/1710 [01:19<00:00, 21.72it/s]\u001b[A\n",
      "dataset_v2_tegu_epsg4326.tif windows:  99%|9| 1700/1710 [01:19<00:00, 22.21it/s]\u001b[A\n",
      "dataset_v2_tegu_epsg4326.tif windows: 100%|9| 1703/1710 [01:20<00:00, 21.98it/s]\u001b[A\n",
      "dataset_v2_tegu_epsg4326.tif windows: 100%|9| 1706/1710 [01:20<00:00, 21.81it/s]\u001b[A\n",
      "dataset_v2_tegu_epsg4326.tif windows: 100%|#| 1710/1710 [01:20<00:00, 21.26it/s]\u001b[A\n",
      "Rasters: 100%|####################################| 1/1 [01:20<00:00, 80.50s/it]\n"
     ]
    }
   ],
   "source": [
    "!satproc_extract_chips \\\n",
    "                $path_to_files \\\n",
    "                -o  $predict_output_folder \\\n",
    "                --size $size \\\n",
    "                --step-size $step_size \\\n",
    "                --rescale \\\n",
    "                --rescale-mode percentiles --lower-cut 0 --upper-cut 100"
   ]
  },
  {
   "cell_type": "markdown",
   "id": "762568b0-0d5b-495e-ba73-17f3feca7811",
   "metadata": {},
   "source": [
    "## Prediction\n",
    "The prediction configuration is defined. We have to pass the prediction dataset path and the model path."
   ]
  },
  {
   "cell_type": "code",
   "execution_count": 6,
   "id": "1646bd64-1195-4779-95eb-eb6413e07c9b",
   "metadata": {},
   "outputs": [],
   "source": [
    "predict_config = PredictConfig(\n",
    "                            images_path   = predict_output_folder, # ruta a las imagenes sobre las cuales queremos predecir\n",
    "                            results_path  = os.path.join(BASE_PATH,'dataset/data_results',ZONE,RESO,EVENTO,'SMOOTH',str(size)+\"_\"+str(step_size)), # ruta de destino para nuestra predicción\n",
    "                            batch_size    = 16,\n",
    "                            model_path    = os.path.join(f'{BASE_PATH}data/weights',MODEL_NAME),  #  ruta al modelo (.h5)\n",
    "                            height        = INPUT_SIZE,\n",
    "                            width         = INPUT_SIZE,\n",
    "                            n_channels    = N_CHANNELS,\n",
    "                            n_classes     = N_CLASSES,\n",
    "                            class_weights = CLASS_WEIGHT)\n"
   ]
  },
  {
   "cell_type": "markdown",
   "id": "3bed1e6a-42b6-48d1-ad2e-16334109a9e5",
   "metadata": {},
   "source": [
    "Running the prediction process."
   ]
  },
  {
   "cell_type": "code",
   "execution_count": 7,
   "id": "61ad08ae-ad36-461a-bfb4-402134b8e012",
   "metadata": {
    "scrolled": true,
    "tags": []
   },
   "outputs": [
    {
     "name": "stdout",
     "output_type": "stream",
     "text": [
      "Total images to predict (./../dataset/data_predict/TEGU/low/moderado/SMOOTH/160_40/images/*.tif): 1710\n",
      "After skipping existing results: 1710\n"
     ]
    },
    {
     "name": "stderr",
     "output_type": "stream",
     "text": [
      "2022-08-01 14:35:01.885836: I tensorflow/stream_executor/cuda/cuda_gpu_executor.cc:975] successful NUMA node read from SysFS had negative value (-1), but there must be at least one NUMA node, so returning NUMA node zero\n",
      "2022-08-01 14:35:01.896982: I tensorflow/stream_executor/cuda/cuda_gpu_executor.cc:975] successful NUMA node read from SysFS had negative value (-1), but there must be at least one NUMA node, so returning NUMA node zero\n",
      "2022-08-01 14:35:01.897875: I tensorflow/stream_executor/cuda/cuda_gpu_executor.cc:975] successful NUMA node read from SysFS had negative value (-1), but there must be at least one NUMA node, so returning NUMA node zero\n",
      "2022-08-01 14:35:01.899724: I tensorflow/core/platform/cpu_feature_guard.cc:193] This TensorFlow binary is optimized with oneAPI Deep Neural Network Library (oneDNN) to use the following CPU instructions in performance-critical operations:  AVX2 FMA\n",
      "To enable them in other operations, rebuild TensorFlow with the appropriate compiler flags.\n",
      "2022-08-01 14:35:01.900176: I tensorflow/stream_executor/cuda/cuda_gpu_executor.cc:975] successful NUMA node read from SysFS had negative value (-1), but there must be at least one NUMA node, so returning NUMA node zero\n",
      "2022-08-01 14:35:01.901118: I tensorflow/stream_executor/cuda/cuda_gpu_executor.cc:975] successful NUMA node read from SysFS had negative value (-1), but there must be at least one NUMA node, so returning NUMA node zero\n",
      "2022-08-01 14:35:01.901939: I tensorflow/stream_executor/cuda/cuda_gpu_executor.cc:975] successful NUMA node read from SysFS had negative value (-1), but there must be at least one NUMA node, so returning NUMA node zero\n",
      "2022-08-01 14:35:02.570828: I tensorflow/stream_executor/cuda/cuda_gpu_executor.cc:975] successful NUMA node read from SysFS had negative value (-1), but there must be at least one NUMA node, so returning NUMA node zero\n",
      "2022-08-01 14:35:02.571722: I tensorflow/stream_executor/cuda/cuda_gpu_executor.cc:975] successful NUMA node read from SysFS had negative value (-1), but there must be at least one NUMA node, so returning NUMA node zero\n",
      "2022-08-01 14:35:02.572583: I tensorflow/stream_executor/cuda/cuda_gpu_executor.cc:975] successful NUMA node read from SysFS had negative value (-1), but there must be at least one NUMA node, so returning NUMA node zero\n",
      "2022-08-01 14:35:02.573324: I tensorflow/core/common_runtime/gpu/gpu_device.cc:1532] Created device /job:localhost/replica:0/task:0/device:GPU:0 with 10794 MB memory:  -> device: 0, name: Tesla K80, pci bus id: 0000:00:1e.0, compute capability: 3.7\n",
      "  0%|                                                   | 0/107 [00:00<?, ?it/s]2022-08-01 14:35:06.362601: I tensorflow/stream_executor/cuda/cuda_dnn.cc:384] Loaded cuDNN version 8202\n",
      "2022-08-01 14:35:06.784773: I tensorflow/core/platform/default/subprocess.cc:304] Start cannot spawn child process: No such file or directory\n",
      "2022-08-01 14:35:06.787223: I tensorflow/core/platform/default/subprocess.cc:304] Start cannot spawn child process: No such file or directory\n",
      "2022-08-01 14:35:06.787279: W tensorflow/stream_executor/gpu/asm_compiler.cc:80] Couldn't get ptxas version string: INTERNAL: Couldn't invoke ptxas --version\n",
      "2022-08-01 14:35:06.787884: I tensorflow/core/platform/default/subprocess.cc:304] Start cannot spawn child process: No such file or directory\n",
      "2022-08-01 14:35:06.788075: W tensorflow/stream_executor/gpu/redzone_allocator.cc:314] INTERNAL: Failed to launch ptxas\n",
      "Relying on driver to perform ptx compilation. \n",
      "Modify $PATH to customize ptxas location.\n",
      "This message will be only logged once.\n"
     ]
    },
    {
     "name": "stdout",
     "output_type": "stream",
     "text": [
      "1/1 [==============================] - 5s 5s/step\n"
     ]
    },
    {
     "name": "stderr",
     "output_type": "stream",
     "text": [
      "  1%|▍                                          | 1/107 [00:06<11:37,  6.58s/it]"
     ]
    },
    {
     "name": "stdout",
     "output_type": "stream",
     "text": [
      "1/1 [==============================] - 0s 39ms/step\n"
     ]
    },
    {
     "name": "stderr",
     "output_type": "stream",
     "text": [
      "  2%|▊                                          | 2/107 [00:08<06:14,  3.56s/it]"
     ]
    },
    {
     "name": "stdout",
     "output_type": "stream",
     "text": [
      "1/1 [==============================] - 0s 42ms/step\n"
     ]
    },
    {
     "name": "stderr",
     "output_type": "stream",
     "text": [
      "  3%|█▏                                         | 3/107 [00:09<04:28,  2.58s/it]"
     ]
    },
    {
     "name": "stdout",
     "output_type": "stream",
     "text": [
      "1/1 [==============================] - 0s 43ms/step\n"
     ]
    },
    {
     "name": "stderr",
     "output_type": "stream",
     "text": [
      "  4%|█▌                                         | 4/107 [00:10<03:26,  2.00s/it]"
     ]
    },
    {
     "name": "stdout",
     "output_type": "stream",
     "text": [
      "1/1 [==============================] - 0s 39ms/step\n"
     ]
    },
    {
     "name": "stderr",
     "output_type": "stream",
     "text": [
      "  5%|██                                         | 5/107 [00:11<03:00,  1.77s/it]"
     ]
    },
    {
     "name": "stdout",
     "output_type": "stream",
     "text": [
      "1/1 [==============================] - 0s 40ms/step\n"
     ]
    },
    {
     "name": "stderr",
     "output_type": "stream",
     "text": [
      "  6%|██▍                                        | 6/107 [00:13<02:48,  1.67s/it]"
     ]
    },
    {
     "name": "stdout",
     "output_type": "stream",
     "text": [
      "1/1 [==============================] - 0s 42ms/step\n"
     ]
    },
    {
     "name": "stderr",
     "output_type": "stream",
     "text": [
      "  7%|██▊                                        | 7/107 [00:14<02:38,  1.59s/it]"
     ]
    },
    {
     "name": "stdout",
     "output_type": "stream",
     "text": [
      "1/1 [==============================] - 0s 35ms/step\n"
     ]
    },
    {
     "name": "stderr",
     "output_type": "stream",
     "text": [
      "  7%|███▏                                       | 8/107 [00:16<02:31,  1.53s/it]"
     ]
    },
    {
     "name": "stdout",
     "output_type": "stream",
     "text": [
      "1/1 [==============================] - 0s 61ms/step\n"
     ]
    },
    {
     "name": "stderr",
     "output_type": "stream",
     "text": [
      "  8%|███▌                                       | 9/107 [00:17<02:20,  1.43s/it]"
     ]
    },
    {
     "name": "stdout",
     "output_type": "stream",
     "text": [
      "1/1 [==============================] - 0s 46ms/step\n"
     ]
    },
    {
     "name": "stderr",
     "output_type": "stream",
     "text": [
      "  9%|███▉                                      | 10/107 [00:18<02:10,  1.34s/it]"
     ]
    },
    {
     "name": "stdout",
     "output_type": "stream",
     "text": [
      "1/1 [==============================] - 0s 33ms/step\n"
     ]
    },
    {
     "name": "stderr",
     "output_type": "stream",
     "text": [
      " 10%|████▎                                     | 11/107 [00:19<02:09,  1.35s/it]"
     ]
    },
    {
     "name": "stdout",
     "output_type": "stream",
     "text": [
      "1/1 [==============================] - 0s 35ms/step\n"
     ]
    },
    {
     "name": "stderr",
     "output_type": "stream",
     "text": [
      " 11%|████▋                                     | 12/107 [00:21<02:02,  1.29s/it]"
     ]
    },
    {
     "name": "stdout",
     "output_type": "stream",
     "text": [
      "1/1 [==============================] - 0s 36ms/step\n"
     ]
    },
    {
     "name": "stderr",
     "output_type": "stream",
     "text": [
      " 12%|█████                                     | 13/107 [00:22<01:58,  1.26s/it]"
     ]
    },
    {
     "name": "stdout",
     "output_type": "stream",
     "text": [
      "1/1 [==============================] - 0s 37ms/step\n"
     ]
    },
    {
     "name": "stderr",
     "output_type": "stream",
     "text": [
      " 13%|█████▍                                    | 14/107 [00:23<01:54,  1.23s/it]"
     ]
    },
    {
     "name": "stdout",
     "output_type": "stream",
     "text": [
      "1/1 [==============================] - 0s 35ms/step\n"
     ]
    },
    {
     "name": "stderr",
     "output_type": "stream",
     "text": [
      " 14%|█████▉                                    | 15/107 [00:24<01:56,  1.27s/it]"
     ]
    },
    {
     "name": "stdout",
     "output_type": "stream",
     "text": [
      "1/1 [==============================] - 0s 37ms/step\n"
     ]
    },
    {
     "name": "stderr",
     "output_type": "stream",
     "text": [
      " 15%|██████▎                                   | 16/107 [00:26<01:58,  1.30s/it]"
     ]
    },
    {
     "name": "stdout",
     "output_type": "stream",
     "text": [
      "1/1 [==============================] - 0s 41ms/step\n"
     ]
    },
    {
     "name": "stderr",
     "output_type": "stream",
     "text": [
      " 16%|██████▋                                   | 17/107 [00:27<02:01,  1.35s/it]"
     ]
    },
    {
     "name": "stdout",
     "output_type": "stream",
     "text": [
      "1/1 [==============================] - 0s 40ms/step\n"
     ]
    },
    {
     "name": "stderr",
     "output_type": "stream",
     "text": [
      " 17%|███████                                   | 18/107 [00:28<01:55,  1.29s/it]"
     ]
    },
    {
     "name": "stdout",
     "output_type": "stream",
     "text": [
      "1/1 [==============================] - 0s 35ms/step\n"
     ]
    },
    {
     "name": "stderr",
     "output_type": "stream",
     "text": [
      " 18%|███████▍                                  | 19/107 [00:29<01:50,  1.25s/it]"
     ]
    },
    {
     "name": "stdout",
     "output_type": "stream",
     "text": [
      "1/1 [==============================] - 0s 35ms/step\n"
     ]
    },
    {
     "name": "stderr",
     "output_type": "stream",
     "text": [
      " 19%|███████▊                                  | 20/107 [00:31<01:53,  1.31s/it]"
     ]
    },
    {
     "name": "stdout",
     "output_type": "stream",
     "text": [
      "1/1 [==============================] - 0s 35ms/step\n"
     ]
    },
    {
     "name": "stderr",
     "output_type": "stream",
     "text": [
      " 20%|████████▏                                 | 21/107 [00:32<01:54,  1.33s/it]"
     ]
    },
    {
     "name": "stdout",
     "output_type": "stream",
     "text": [
      "1/1 [==============================] - 0s 40ms/step\n"
     ]
    },
    {
     "name": "stderr",
     "output_type": "stream",
     "text": [
      " 21%|████████▋                                 | 22/107 [00:33<01:47,  1.26s/it]"
     ]
    },
    {
     "name": "stdout",
     "output_type": "stream",
     "text": [
      "1/1 [==============================] - 0s 32ms/step\n"
     ]
    },
    {
     "name": "stderr",
     "output_type": "stream",
     "text": [
      " 21%|█████████                                 | 23/107 [00:35<01:50,  1.31s/it]"
     ]
    },
    {
     "name": "stdout",
     "output_type": "stream",
     "text": [
      "1/1 [==============================] - 0s 34ms/step\n"
     ]
    },
    {
     "name": "stderr",
     "output_type": "stream",
     "text": [
      " 22%|█████████▍                                | 24/107 [00:36<01:50,  1.33s/it]"
     ]
    },
    {
     "name": "stdout",
     "output_type": "stream",
     "text": [
      "1/1 [==============================] - 0s 33ms/step\n"
     ]
    },
    {
     "name": "stderr",
     "output_type": "stream",
     "text": [
      " 23%|█████████▊                                | 25/107 [00:38<01:52,  1.38s/it]"
     ]
    },
    {
     "name": "stdout",
     "output_type": "stream",
     "text": [
      "1/1 [==============================] - 0s 35ms/step\n"
     ]
    },
    {
     "name": "stderr",
     "output_type": "stream",
     "text": [
      " 24%|██████████▏                               | 26/107 [00:39<01:47,  1.33s/it]"
     ]
    },
    {
     "name": "stdout",
     "output_type": "stream",
     "text": [
      "1/1 [==============================] - 0s 38ms/step\n"
     ]
    },
    {
     "name": "stderr",
     "output_type": "stream",
     "text": [
      " 25%|██████████▌                               | 27/107 [00:40<01:42,  1.28s/it]"
     ]
    },
    {
     "name": "stdout",
     "output_type": "stream",
     "text": [
      "1/1 [==============================] - 0s 50ms/step\n"
     ]
    },
    {
     "name": "stderr",
     "output_type": "stream",
     "text": [
      " 26%|██████████▉                               | 28/107 [00:41<01:44,  1.32s/it]"
     ]
    },
    {
     "name": "stdout",
     "output_type": "stream",
     "text": [
      "1/1 [==============================] - 0s 35ms/step\n"
     ]
    },
    {
     "name": "stderr",
     "output_type": "stream",
     "text": [
      " 27%|███████████▍                              | 29/107 [00:43<01:45,  1.35s/it]"
     ]
    },
    {
     "name": "stdout",
     "output_type": "stream",
     "text": [
      "1/1 [==============================] - 0s 33ms/step\n"
     ]
    },
    {
     "name": "stderr",
     "output_type": "stream",
     "text": [
      " 28%|███████████▊                              | 30/107 [00:44<01:44,  1.36s/it]"
     ]
    },
    {
     "name": "stdout",
     "output_type": "stream",
     "text": [
      "1/1 [==============================] - 0s 36ms/step\n"
     ]
    },
    {
     "name": "stderr",
     "output_type": "stream",
     "text": [
      " 29%|████████████▏                             | 31/107 [00:46<01:43,  1.36s/it]"
     ]
    },
    {
     "name": "stdout",
     "output_type": "stream",
     "text": [
      "1/1 [==============================] - 0s 35ms/step\n"
     ]
    },
    {
     "name": "stderr",
     "output_type": "stream",
     "text": [
      " 30%|████████████▌                             | 32/107 [00:47<01:46,  1.43s/it]"
     ]
    },
    {
     "name": "stdout",
     "output_type": "stream",
     "text": [
      "1/1 [==============================] - 0s 34ms/step\n"
     ]
    },
    {
     "name": "stderr",
     "output_type": "stream",
     "text": [
      " 31%|████████████▉                             | 33/107 [00:48<01:39,  1.34s/it]"
     ]
    },
    {
     "name": "stdout",
     "output_type": "stream",
     "text": [
      "1/1 [==============================] - 0s 36ms/step\n"
     ]
    },
    {
     "name": "stderr",
     "output_type": "stream",
     "text": [
      " 32%|█████████████▎                            | 34/107 [00:50<01:38,  1.35s/it]"
     ]
    },
    {
     "name": "stdout",
     "output_type": "stream",
     "text": [
      "1/1 [==============================] - 0s 33ms/step\n"
     ]
    },
    {
     "name": "stderr",
     "output_type": "stream",
     "text": [
      " 33%|█████████████▋                            | 35/107 [00:51<01:31,  1.27s/it]"
     ]
    },
    {
     "name": "stdout",
     "output_type": "stream",
     "text": [
      "1/1 [==============================] - 0s 38ms/step\n"
     ]
    },
    {
     "name": "stderr",
     "output_type": "stream",
     "text": [
      " 34%|██████████████▏                           | 36/107 [00:52<01:34,  1.33s/it]"
     ]
    },
    {
     "name": "stdout",
     "output_type": "stream",
     "text": [
      "1/1 [==============================] - 0s 36ms/step\n"
     ]
    },
    {
     "name": "stderr",
     "output_type": "stream",
     "text": [
      " 35%|██████████████▌                           | 37/107 [00:53<01:28,  1.27s/it]"
     ]
    },
    {
     "name": "stdout",
     "output_type": "stream",
     "text": [
      "1/1 [==============================] - 0s 38ms/step\n"
     ]
    },
    {
     "name": "stderr",
     "output_type": "stream",
     "text": [
      " 36%|██████████████▉                           | 38/107 [00:55<01:26,  1.25s/it]"
     ]
    },
    {
     "name": "stdout",
     "output_type": "stream",
     "text": [
      "1/1 [==============================] - 0s 36ms/step\n"
     ]
    },
    {
     "name": "stderr",
     "output_type": "stream",
     "text": [
      " 36%|███████████████▎                          | 39/107 [00:56<01:26,  1.28s/it]"
     ]
    },
    {
     "name": "stdout",
     "output_type": "stream",
     "text": [
      "1/1 [==============================] - 0s 33ms/step\n"
     ]
    },
    {
     "name": "stderr",
     "output_type": "stream",
     "text": [
      " 37%|███████████████▋                          | 40/107 [00:57<01:28,  1.33s/it]"
     ]
    },
    {
     "name": "stdout",
     "output_type": "stream",
     "text": [
      "1/1 [==============================] - 0s 33ms/step\n"
     ]
    },
    {
     "name": "stderr",
     "output_type": "stream",
     "text": [
      " 38%|████████████████                          | 41/107 [00:59<01:29,  1.35s/it]"
     ]
    },
    {
     "name": "stdout",
     "output_type": "stream",
     "text": [
      "1/1 [==============================] - 0s 35ms/step\n"
     ]
    },
    {
     "name": "stderr",
     "output_type": "stream",
     "text": [
      " 39%|████████████████▍                         | 42/107 [01:00<01:23,  1.29s/it]"
     ]
    },
    {
     "name": "stdout",
     "output_type": "stream",
     "text": [
      "1/1 [==============================] - 0s 33ms/step\n"
     ]
    },
    {
     "name": "stderr",
     "output_type": "stream",
     "text": [
      " 40%|████████████████▉                         | 43/107 [01:01<01:24,  1.32s/it]"
     ]
    },
    {
     "name": "stdout",
     "output_type": "stream",
     "text": [
      "1/1 [==============================] - 0s 34ms/step\n"
     ]
    },
    {
     "name": "stderr",
     "output_type": "stream",
     "text": [
      " 41%|█████████████████▎                        | 44/107 [01:03<01:26,  1.37s/it]"
     ]
    },
    {
     "name": "stdout",
     "output_type": "stream",
     "text": [
      "1/1 [==============================] - 0s 37ms/step\n"
     ]
    },
    {
     "name": "stderr",
     "output_type": "stream",
     "text": [
      " 42%|█████████████████▋                        | 45/107 [01:04<01:24,  1.36s/it]"
     ]
    },
    {
     "name": "stdout",
     "output_type": "stream",
     "text": [
      "1/1 [==============================] - 0s 35ms/step\n"
     ]
    },
    {
     "name": "stderr",
     "output_type": "stream",
     "text": [
      " 43%|██████████████████                        | 46/107 [01:06<01:24,  1.39s/it]"
     ]
    },
    {
     "name": "stdout",
     "output_type": "stream",
     "text": [
      "1/1 [==============================] - 0s 33ms/step\n"
     ]
    },
    {
     "name": "stderr",
     "output_type": "stream",
     "text": [
      " 44%|██████████████████▍                       | 47/107 [01:07<01:25,  1.42s/it]"
     ]
    },
    {
     "name": "stdout",
     "output_type": "stream",
     "text": [
      "1/1 [==============================] - 0s 35ms/step\n"
     ]
    },
    {
     "name": "stderr",
     "output_type": "stream",
     "text": [
      " 45%|██████████████████▊                       | 48/107 [01:08<01:22,  1.40s/it]"
     ]
    },
    {
     "name": "stdout",
     "output_type": "stream",
     "text": [
      "1/1 [==============================] - 0s 32ms/step\n"
     ]
    },
    {
     "name": "stderr",
     "output_type": "stream",
     "text": [
      " 46%|███████████████████▏                      | 49/107 [01:10<01:20,  1.39s/it]"
     ]
    },
    {
     "name": "stdout",
     "output_type": "stream",
     "text": [
      "1/1 [==============================] - 0s 43ms/step\n"
     ]
    },
    {
     "name": "stderr",
     "output_type": "stream",
     "text": [
      " 47%|███████████████████▋                      | 50/107 [01:11<01:15,  1.32s/it]"
     ]
    },
    {
     "name": "stdout",
     "output_type": "stream",
     "text": [
      "1/1 [==============================] - 0s 32ms/step\n"
     ]
    },
    {
     "name": "stderr",
     "output_type": "stream",
     "text": [
      " 48%|████████████████████                      | 51/107 [01:12<01:15,  1.35s/it]"
     ]
    },
    {
     "name": "stdout",
     "output_type": "stream",
     "text": [
      "1/1 [==============================] - 0s 43ms/step\n"
     ]
    },
    {
     "name": "stderr",
     "output_type": "stream",
     "text": [
      " 49%|████████████████████▍                     | 52/107 [01:14<01:10,  1.28s/it]"
     ]
    },
    {
     "name": "stdout",
     "output_type": "stream",
     "text": [
      "1/1 [==============================] - 0s 36ms/step\n"
     ]
    },
    {
     "name": "stderr",
     "output_type": "stream",
     "text": [
      " 50%|████████████████████▊                     | 53/107 [01:15<01:10,  1.31s/it]"
     ]
    },
    {
     "name": "stdout",
     "output_type": "stream",
     "text": [
      "1/1 [==============================] - 0s 38ms/step\n"
     ]
    },
    {
     "name": "stderr",
     "output_type": "stream",
     "text": [
      " 50%|█████████████████████▏                    | 54/107 [01:16<01:06,  1.25s/it]"
     ]
    },
    {
     "name": "stdout",
     "output_type": "stream",
     "text": [
      "1/1 [==============================] - 0s 34ms/step\n"
     ]
    },
    {
     "name": "stderr",
     "output_type": "stream",
     "text": [
      " 51%|█████████████████████▌                    | 55/107 [01:17<01:03,  1.22s/it]"
     ]
    },
    {
     "name": "stdout",
     "output_type": "stream",
     "text": [
      "1/1 [==============================] - 0s 38ms/step\n"
     ]
    },
    {
     "name": "stderr",
     "output_type": "stream",
     "text": [
      " 52%|█████████████████████▉                    | 56/107 [01:18<01:00,  1.19s/it]"
     ]
    },
    {
     "name": "stdout",
     "output_type": "stream",
     "text": [
      "1/1 [==============================] - 0s 35ms/step\n"
     ]
    },
    {
     "name": "stderr",
     "output_type": "stream",
     "text": [
      " 53%|██████████████████████▎                   | 57/107 [01:19<00:58,  1.17s/it]"
     ]
    },
    {
     "name": "stdout",
     "output_type": "stream",
     "text": [
      "1/1 [==============================] - 0s 47ms/step\n"
     ]
    },
    {
     "name": "stderr",
     "output_type": "stream",
     "text": [
      " 54%|██████████████████████▊                   | 58/107 [01:21<00:56,  1.16s/it]"
     ]
    },
    {
     "name": "stdout",
     "output_type": "stream",
     "text": [
      "1/1 [==============================] - 0s 35ms/step\n"
     ]
    },
    {
     "name": "stderr",
     "output_type": "stream",
     "text": [
      " 55%|███████████████████████▏                  | 59/107 [01:22<00:58,  1.23s/it]"
     ]
    },
    {
     "name": "stdout",
     "output_type": "stream",
     "text": [
      "1/1 [==============================] - 0s 32ms/step\n"
     ]
    },
    {
     "name": "stderr",
     "output_type": "stream",
     "text": [
      " 56%|███████████████████████▌                  | 60/107 [01:23<01:00,  1.28s/it]"
     ]
    },
    {
     "name": "stdout",
     "output_type": "stream",
     "text": [
      "1/1 [==============================] - 0s 34ms/step\n"
     ]
    },
    {
     "name": "stderr",
     "output_type": "stream",
     "text": [
      " 57%|███████████████████████▉                  | 61/107 [01:25<01:00,  1.33s/it]"
     ]
    },
    {
     "name": "stdout",
     "output_type": "stream",
     "text": [
      "1/1 [==============================] - 0s 43ms/step\n"
     ]
    },
    {
     "name": "stderr",
     "output_type": "stream",
     "text": [
      " 58%|████████████████████████▎                 | 62/107 [01:26<01:00,  1.34s/it]"
     ]
    },
    {
     "name": "stdout",
     "output_type": "stream",
     "text": [
      "1/1 [==============================] - 0s 36ms/step\n"
     ]
    },
    {
     "name": "stderr",
     "output_type": "stream",
     "text": [
      " 59%|████████████████████████▋                 | 63/107 [01:28<01:00,  1.38s/it]"
     ]
    },
    {
     "name": "stdout",
     "output_type": "stream",
     "text": [
      "1/1 [==============================] - 0s 41ms/step\n"
     ]
    },
    {
     "name": "stderr",
     "output_type": "stream",
     "text": [
      " 60%|█████████████████████████                 | 64/107 [01:29<00:56,  1.32s/it]"
     ]
    },
    {
     "name": "stdout",
     "output_type": "stream",
     "text": [
      "1/1 [==============================] - 0s 34ms/step\n"
     ]
    },
    {
     "name": "stderr",
     "output_type": "stream",
     "text": [
      " 61%|█████████████████████████▌                | 65/107 [01:30<00:56,  1.35s/it]"
     ]
    },
    {
     "name": "stdout",
     "output_type": "stream",
     "text": [
      "1/1 [==============================] - 0s 35ms/step\n"
     ]
    },
    {
     "name": "stderr",
     "output_type": "stream",
     "text": [
      " 62%|█████████████████████████▉                | 66/107 [01:31<00:52,  1.28s/it]"
     ]
    },
    {
     "name": "stdout",
     "output_type": "stream",
     "text": [
      "1/1 [==============================] - 0s 36ms/step\n"
     ]
    },
    {
     "name": "stderr",
     "output_type": "stream",
     "text": [
      " 63%|██████████████████████████▎               | 67/107 [01:32<00:49,  1.24s/it]"
     ]
    },
    {
     "name": "stdout",
     "output_type": "stream",
     "text": [
      "1/1 [==============================] - 0s 34ms/step\n"
     ]
    },
    {
     "name": "stderr",
     "output_type": "stream",
     "text": [
      " 64%|██████████████████████████▋               | 68/107 [01:34<00:49,  1.27s/it]"
     ]
    },
    {
     "name": "stdout",
     "output_type": "stream",
     "text": [
      "1/1 [==============================] - 0s 57ms/step\n"
     ]
    },
    {
     "name": "stderr",
     "output_type": "stream",
     "text": [
      " 64%|███████████████████████████               | 69/107 [01:35<00:47,  1.25s/it]"
     ]
    },
    {
     "name": "stdout",
     "output_type": "stream",
     "text": [
      "1/1 [==============================] - 0s 35ms/step\n"
     ]
    },
    {
     "name": "stderr",
     "output_type": "stream",
     "text": [
      " 65%|███████████████████████████▍              | 70/107 [01:36<00:47,  1.29s/it]"
     ]
    },
    {
     "name": "stdout",
     "output_type": "stream",
     "text": [
      "1/1 [==============================] - 0s 36ms/step\n"
     ]
    },
    {
     "name": "stderr",
     "output_type": "stream",
     "text": [
      " 66%|███████████████████████████▊              | 71/107 [01:38<00:47,  1.31s/it]"
     ]
    },
    {
     "name": "stdout",
     "output_type": "stream",
     "text": [
      "1/1 [==============================] - 0s 33ms/step\n"
     ]
    },
    {
     "name": "stderr",
     "output_type": "stream",
     "text": [
      " 67%|████████████████████████████▎             | 72/107 [01:39<00:46,  1.34s/it]"
     ]
    },
    {
     "name": "stdout",
     "output_type": "stream",
     "text": [
      "1/1 [==============================] - 0s 34ms/step\n"
     ]
    },
    {
     "name": "stderr",
     "output_type": "stream",
     "text": [
      " 68%|████████████████████████████▋             | 73/107 [01:41<00:46,  1.37s/it]"
     ]
    },
    {
     "name": "stdout",
     "output_type": "stream",
     "text": [
      "1/1 [==============================] - 0s 35ms/step\n"
     ]
    },
    {
     "name": "stderr",
     "output_type": "stream",
     "text": [
      " 69%|█████████████████████████████             | 74/107 [01:42<00:45,  1.38s/it]"
     ]
    },
    {
     "name": "stdout",
     "output_type": "stream",
     "text": [
      "1/1 [==============================] - 0s 34ms/step\n"
     ]
    },
    {
     "name": "stderr",
     "output_type": "stream",
     "text": [
      " 70%|█████████████████████████████▍            | 75/107 [01:43<00:44,  1.39s/it]"
     ]
    },
    {
     "name": "stdout",
     "output_type": "stream",
     "text": [
      "1/1 [==============================] - 0s 39ms/step\n"
     ]
    },
    {
     "name": "stderr",
     "output_type": "stream",
     "text": [
      " 71%|█████████████████████████████▊            | 76/107 [01:45<00:43,  1.41s/it]"
     ]
    },
    {
     "name": "stdout",
     "output_type": "stream",
     "text": [
      "1/1 [==============================] - 0s 36ms/step\n"
     ]
    },
    {
     "name": "stderr",
     "output_type": "stream",
     "text": [
      " 72%|██████████████████████████████▏           | 77/107 [01:46<00:40,  1.35s/it]"
     ]
    },
    {
     "name": "stdout",
     "output_type": "stream",
     "text": [
      "1/1 [==============================] - 0s 34ms/step\n"
     ]
    },
    {
     "name": "stderr",
     "output_type": "stream",
     "text": [
      " 73%|██████████████████████████████▌           | 78/107 [01:47<00:39,  1.37s/it]"
     ]
    },
    {
     "name": "stdout",
     "output_type": "stream",
     "text": [
      "1/1 [==============================] - 0s 34ms/step\n"
     ]
    },
    {
     "name": "stderr",
     "output_type": "stream",
     "text": [
      " 74%|███████████████████████████████           | 79/107 [01:49<00:38,  1.37s/it]"
     ]
    },
    {
     "name": "stdout",
     "output_type": "stream",
     "text": [
      "1/1 [==============================] - 0s 39ms/step\n"
     ]
    },
    {
     "name": "stderr",
     "output_type": "stream",
     "text": [
      " 75%|███████████████████████████████▍          | 80/107 [01:50<00:35,  1.31s/it]"
     ]
    },
    {
     "name": "stdout",
     "output_type": "stream",
     "text": [
      "1/1 [==============================] - 0s 34ms/step\n"
     ]
    },
    {
     "name": "stderr",
     "output_type": "stream",
     "text": [
      " 76%|███████████████████████████████▊          | 81/107 [01:51<00:34,  1.33s/it]"
     ]
    },
    {
     "name": "stdout",
     "output_type": "stream",
     "text": [
      "1/1 [==============================] - 0s 33ms/step\n"
     ]
    },
    {
     "name": "stderr",
     "output_type": "stream",
     "text": [
      " 77%|████████████████████████████████▏         | 82/107 [01:53<00:33,  1.36s/it]"
     ]
    },
    {
     "name": "stdout",
     "output_type": "stream",
     "text": [
      "1/1 [==============================] - 0s 38ms/step\n"
     ]
    },
    {
     "name": "stderr",
     "output_type": "stream",
     "text": [
      " 78%|████████████████████████████████▌         | 83/107 [01:54<00:30,  1.28s/it]"
     ]
    },
    {
     "name": "stdout",
     "output_type": "stream",
     "text": [
      "1/1 [==============================] - 0s 34ms/step\n"
     ]
    },
    {
     "name": "stderr",
     "output_type": "stream",
     "text": [
      " 79%|████████████████████████████████▉         | 84/107 [01:55<00:28,  1.26s/it]"
     ]
    },
    {
     "name": "stdout",
     "output_type": "stream",
     "text": [
      "1/1 [==============================] - 0s 34ms/step\n"
     ]
    },
    {
     "name": "stderr",
     "output_type": "stream",
     "text": [
      " 79%|█████████████████████████████████▎        | 85/107 [01:57<00:28,  1.30s/it]"
     ]
    },
    {
     "name": "stdout",
     "output_type": "stream",
     "text": [
      "1/1 [==============================] - 0s 35ms/step\n"
     ]
    },
    {
     "name": "stderr",
     "output_type": "stream",
     "text": [
      " 80%|█████████████████████████████████▊        | 86/107 [01:58<00:27,  1.33s/it]"
     ]
    },
    {
     "name": "stdout",
     "output_type": "stream",
     "text": [
      "1/1 [==============================] - 0s 34ms/step\n"
     ]
    },
    {
     "name": "stderr",
     "output_type": "stream",
     "text": [
      " 81%|██████████████████████████████████▏       | 87/107 [01:59<00:27,  1.36s/it]"
     ]
    },
    {
     "name": "stdout",
     "output_type": "stream",
     "text": [
      "1/1 [==============================] - 0s 34ms/step\n"
     ]
    },
    {
     "name": "stderr",
     "output_type": "stream",
     "text": [
      " 82%|██████████████████████████████████▌       | 88/107 [02:01<00:26,  1.39s/it]"
     ]
    },
    {
     "name": "stdout",
     "output_type": "stream",
     "text": [
      "1/1 [==============================] - 0s 50ms/step\n"
     ]
    },
    {
     "name": "stderr",
     "output_type": "stream",
     "text": [
      " 83%|██████████████████████████████████▉       | 89/107 [02:02<00:25,  1.40s/it]"
     ]
    },
    {
     "name": "stdout",
     "output_type": "stream",
     "text": [
      "1/1 [==============================] - 0s 32ms/step\n"
     ]
    },
    {
     "name": "stderr",
     "output_type": "stream",
     "text": [
      " 84%|███████████████████████████████████▎      | 90/107 [02:04<00:23,  1.39s/it]"
     ]
    },
    {
     "name": "stdout",
     "output_type": "stream",
     "text": [
      "1/1 [==============================] - 0s 34ms/step\n"
     ]
    },
    {
     "name": "stderr",
     "output_type": "stream",
     "text": [
      " 85%|███████████████████████████████████▋      | 91/107 [02:05<00:22,  1.38s/it]"
     ]
    },
    {
     "name": "stdout",
     "output_type": "stream",
     "text": [
      "1/1 [==============================] - 0s 48ms/step\n"
     ]
    },
    {
     "name": "stderr",
     "output_type": "stream",
     "text": [
      " 86%|████████████████████████████████████      | 92/107 [02:06<00:19,  1.31s/it]"
     ]
    },
    {
     "name": "stdout",
     "output_type": "stream",
     "text": [
      "1/1 [==============================] - 0s 36ms/step\n"
     ]
    },
    {
     "name": "stderr",
     "output_type": "stream",
     "text": [
      " 87%|████████████████████████████████████▌     | 93/107 [02:07<00:18,  1.29s/it]"
     ]
    },
    {
     "name": "stdout",
     "output_type": "stream",
     "text": [
      "1/1 [==============================] - 0s 34ms/step\n"
     ]
    },
    {
     "name": "stderr",
     "output_type": "stream",
     "text": [
      " 88%|████████████████████████████████████▉     | 94/107 [02:09<00:17,  1.32s/it]"
     ]
    },
    {
     "name": "stdout",
     "output_type": "stream",
     "text": [
      "1/1 [==============================] - 0s 33ms/step\n"
     ]
    },
    {
     "name": "stderr",
     "output_type": "stream",
     "text": [
      " 89%|█████████████████████████████████████▎    | 95/107 [02:10<00:16,  1.34s/it]"
     ]
    },
    {
     "name": "stdout",
     "output_type": "stream",
     "text": [
      "1/1 [==============================] - 0s 33ms/step\n"
     ]
    },
    {
     "name": "stderr",
     "output_type": "stream",
     "text": [
      " 90%|█████████████████████████████████████▋    | 96/107 [02:11<00:14,  1.34s/it]"
     ]
    },
    {
     "name": "stdout",
     "output_type": "stream",
     "text": [
      "1/1 [==============================] - 0s 38ms/step\n"
     ]
    },
    {
     "name": "stderr",
     "output_type": "stream",
     "text": [
      " 91%|██████████████████████████████████████    | 97/107 [02:13<00:13,  1.31s/it]"
     ]
    },
    {
     "name": "stdout",
     "output_type": "stream",
     "text": [
      "1/1 [==============================] - 0s 34ms/step\n"
     ]
    },
    {
     "name": "stderr",
     "output_type": "stream",
     "text": [
      " 92%|██████████████████████████████████████▍   | 98/107 [02:14<00:11,  1.26s/it]"
     ]
    },
    {
     "name": "stdout",
     "output_type": "stream",
     "text": [
      "1/1 [==============================] - 0s 35ms/step\n"
     ]
    },
    {
     "name": "stderr",
     "output_type": "stream",
     "text": [
      " 93%|██████████████████████████████████████▊   | 99/107 [02:15<00:10,  1.27s/it]"
     ]
    },
    {
     "name": "stdout",
     "output_type": "stream",
     "text": [
      "1/1 [==============================] - 0s 33ms/step\n"
     ]
    },
    {
     "name": "stderr",
     "output_type": "stream",
     "text": [
      " 93%|██████████████████████████████████████▎  | 100/107 [02:17<00:09,  1.31s/it]"
     ]
    },
    {
     "name": "stdout",
     "output_type": "stream",
     "text": [
      "1/1 [==============================] - 0s 33ms/step\n"
     ]
    },
    {
     "name": "stderr",
     "output_type": "stream",
     "text": [
      " 94%|██████████████████████████████████████▋  | 101/107 [02:18<00:07,  1.33s/it]"
     ]
    },
    {
     "name": "stdout",
     "output_type": "stream",
     "text": [
      "1/1 [==============================] - 0s 33ms/step\n"
     ]
    },
    {
     "name": "stderr",
     "output_type": "stream",
     "text": [
      " 95%|███████████████████████████████████████  | 102/107 [02:19<00:06,  1.36s/it]"
     ]
    },
    {
     "name": "stdout",
     "output_type": "stream",
     "text": [
      "1/1 [==============================] - 0s 35ms/step\n"
     ]
    },
    {
     "name": "stderr",
     "output_type": "stream",
     "text": [
      " 96%|███████████████████████████████████████▍ | 103/107 [02:21<00:05,  1.45s/it]"
     ]
    },
    {
     "name": "stdout",
     "output_type": "stream",
     "text": [
      "1/1 [==============================] - 0s 35ms/step\n"
     ]
    },
    {
     "name": "stderr",
     "output_type": "stream",
     "text": [
      " 97%|███████████████████████████████████████▊ | 104/107 [02:22<00:04,  1.46s/it]"
     ]
    },
    {
     "name": "stdout",
     "output_type": "stream",
     "text": [
      "1/1 [==============================] - 0s 37ms/step\n"
     ]
    },
    {
     "name": "stderr",
     "output_type": "stream",
     "text": [
      " 98%|████████████████████████████████████████▏| 105/107 [02:24<00:02,  1.43s/it]"
     ]
    },
    {
     "name": "stdout",
     "output_type": "stream",
     "text": [
      "1/1 [==============================] - 0s 36ms/step\n"
     ]
    },
    {
     "name": "stderr",
     "output_type": "stream",
     "text": [
      " 99%|████████████████████████████████████████▌| 106/107 [02:25<00:01,  1.37s/it]"
     ]
    },
    {
     "name": "stdout",
     "output_type": "stream",
     "text": [
      "1/1 [==============================] - 3s 3s/step\n"
     ]
    },
    {
     "name": "stderr",
     "output_type": "stream",
     "text": [
      "100%|█████████████████████████████████████████| 107/107 [02:29<00:00,  1.40s/it]"
     ]
    },
    {
     "name": "stdout",
     "output_type": "stream",
     "text": [
      "Done!\n"
     ]
    },
    {
     "name": "stderr",
     "output_type": "stream",
     "text": [
      "\n"
     ]
    }
   ],
   "source": [
    "predict(predict_config)  # Ejecuta la predicción"
   ]
  },
  {
   "cell_type": "markdown",
   "id": "3bbb09eb-1ac7-410c-aeed-21b8392ee619",
   "metadata": {},
   "source": [
    "## Smoothing\n",
    "\n",
    "To obtain a better visualization we use the *satproc_smooth_stitch* and *satproc_spatial_filter* tools. The first one merges and smooths overlaped chips generated by the prediction. The second, applies a circular kernel that reduces and filters the low probability values in the boundaries."
   ]
  },
  {
   "cell_type": "code",
   "execution_count": 8,
   "id": "2d5a5708-c15f-4506-b5de-f3b0ce63c4ad",
   "metadata": {},
   "outputs": [
    {
     "name": "stdout",
     "output_type": "stream",
     "text": [
      "Smooth chips: 100%|#########################| 1710/1710 [00:30<00:00, 56.55it/s]\n",
      "Build bounds R-Tree index: 100%|###########| 1710/1710 [00:03<00:00, 555.66it/s]\n",
      "Merge chips: 100%|############################| 132/132 [00:35<00:00,  3.71it/s]\n"
     ]
    }
   ],
   "source": [
    "output=os.path.join(f'./../dataset/data_results/{ZONE}/{RESO}/{EVENTO}/SMOOTH',str(size)+\"_\"+str(step_size),'output')\n",
    "!satproc_smooth_stitch $predict_config.results_path -o $output"
   ]
  },
  {
   "cell_type": "markdown",
   "id": "747a0a67-68c9-4951-89f9-4bb77e4457ed",
   "metadata": {},
   "source": [
    "**SMOOTH FILTER**"
   ]
  },
  {
   "cell_type": "code",
   "execution_count": 12,
   "id": "4af3db76-66f0-4c88-87a7-23e7db54dd11",
   "metadata": {},
   "outputs": [
    {
     "name": "stdout",
     "output_type": "stream",
     "text": [
      "[2022-08-01 14:40:53] INFO:satproc.console.spatial_filter:Num. input files: 132\n",
      "[2022-08-01 14:40:53] INFO:satproc.postprocess.spatial_filter:Merge input images into a virtual raster /tmp/tmp9muplz9o/merged.vrt\n",
      "Apply filter:   0%|                                       | 0/1 [00:00<?, ?it/s][2022-08-01 14:40:54] INFO:rasterio._env:GDAL signalled an error: err_no=4, msg='./../dataset/data_results/TEGU/low/moderado/SMOOTH/floods_TEGU_low_moderado_160_40_smooth_filter.tif: No such file or directory'\n",
      "Apply filter: 100%|###############################| 1/1 [00:01<00:00,  1.01s/it]\n"
     ]
    }
   ],
   "source": [
    "filt_output=f'./../dataset/data_results/{ZONE}/{RESO}/{EVENTO}/SMOOTH/floods_{ZONE}_{RESO}_{EVENTO}_{str(SIZE)}_{str(step_size)}_smooth_filter.tif'\n",
    "!satproc_spatial_filter -v --input-dir $output --size 201 -o $filt_output"
   ]
  }
 ],
 "metadata": {
  "kernelspec": {
   "display_name": "Python 3 (ipykernel)",
   "language": "python",
   "name": "python3"
  },
  "language_info": {
   "codemirror_mode": {
    "name": "ipython",
    "version": 3
   },
   "file_extension": ".py",
   "mimetype": "text/x-python",
   "name": "python",
   "nbconvert_exporter": "python",
   "pygments_lexer": "ipython3",
   "version": "3.9.11"
  }
 },
 "nbformat": 4,
 "nbformat_minor": 5
}
